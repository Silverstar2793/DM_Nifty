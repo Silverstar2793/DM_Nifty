{
 "cells": [
  {
   "cell_type": "code",
   "execution_count": 59,
   "metadata": {},
   "outputs": [
    {
     "name": "stdout",
     "output_type": "stream",
     "text": [
      "The directory does not exist: C:\\Users\\Purva\\Desktop\\WORK\\Sem-7\\Data Mining\\DM_Nifty\\archive\n"
     ]
    }
   ],
   "source": [
    "import numpy as np  # linear algebra\n",
    "import pandas as pd  # data processing, CSV file I/O (e.g. pd.read_csv)\n",
    "import glob\n",
    "import seaborn as sns\n",
    "import matplotlib.pyplot as plt\n",
    "import os\n",
    "\n",
    "# Define the path to your local dataset\n",
    "dataset_path = r'C:\\Users\\Purva\\Desktop\\WORK\\Sem-7\\Data Mining\\DM_Nifty\\archive'  # Update this with your local folder path\n",
    "\n",
    "# Check if the path exists\n",
    "if os.path.exists(dataset_path):\n",
    "    # List all files in the directory\n",
    "    files_in_directory = os.listdir(dataset_path)\n",
    "\n",
    "    # Check if there are files in the directory\n",
    "    if files_in_directory:\n",
    "        print(\"Files in directory:\", files_in_directory)\n",
    "\n",
    "        # Iterate over the files and print the full path\n",
    "        for filename in files_in_directory:\n",
    "            print(os.path.join(dataset_path, filename))\n",
    "    else:\n",
    "        print(f\"No files found in the directory: {dataset_path}\")\n",
    "else:\n",
    "    print(f\"The directory does not exist: {dataset_path}\")\n"
   ]
  },
  {
   "cell_type": "code",
   "execution_count": 60,
   "metadata": {},
   "outputs": [
    {
     "name": "stdout",
     "output_type": "stream",
     "text": [
      "[]\n"
     ]
    }
   ],
   "source": [
    "import glob\n",
    "\n",
    "# Update with the correct local directory path\n",
    "directory = r'C:\\Users\\Purva\\Desktop\\WORK\\Sem-7\\Data Mining\\DM_Nifty\\archive'  # Local path to CSV files\n",
    "\n",
    "# Get list of all CSV files in the directory\n",
    "file_paths = glob.glob(directory)\n",
    "\n",
    "# Print the file paths\n",
    "print(file_paths)\n"
   ]
  },
  {
   "cell_type": "code",
   "execution_count": 61,
   "metadata": {},
   "outputs": [],
   "source": [
    "# Reading each CSV file and store in a list\n",
    "dfs = []\n",
    "for file_path in file_paths:\n",
    "    # Avoiding reading metadata file\n",
    "    if 'stock_metadata' not in file_path and 'NIFTY50_all' not in file_path:\n",
    "        df = pd.read_csv(file_path, parse_dates=['Date'])\n",
    "        df['Stock'] = file_path.split('/')[-1].replace('.csv', '')  # Adding stock name column\n",
    "        dfs.append(df)\n"
   ]
  },
  {
   "cell_type": "code",
   "execution_count": 62,
   "metadata": {},
   "outputs": [
    {
     "name": "stdout",
     "output_type": "stream",
     "text": [
      "CSV files found in the directory: ['D:\\\\Studies\\\\4th Year\\\\Data Mining\\\\Project\\\\new\\\\archive\\\\ADANIPORTS.csv', 'D:\\\\Studies\\\\4th Year\\\\Data Mining\\\\Project\\\\new\\\\archive\\\\ASIANPAINT.csv', 'D:\\\\Studies\\\\4th Year\\\\Data Mining\\\\Project\\\\new\\\\archive\\\\AXISBANK.csv', 'D:\\\\Studies\\\\4th Year\\\\Data Mining\\\\Project\\\\new\\\\archive\\\\BAJAJ-AUTO.csv', 'D:\\\\Studies\\\\4th Year\\\\Data Mining\\\\Project\\\\new\\\\archive\\\\BAJAJFINSV.csv', 'D:\\\\Studies\\\\4th Year\\\\Data Mining\\\\Project\\\\new\\\\archive\\\\BAJFINANCE.csv', 'D:\\\\Studies\\\\4th Year\\\\Data Mining\\\\Project\\\\new\\\\archive\\\\BHARTIARTL.csv', 'D:\\\\Studies\\\\4th Year\\\\Data Mining\\\\Project\\\\new\\\\archive\\\\BPCL.csv', 'D:\\\\Studies\\\\4th Year\\\\Data Mining\\\\Project\\\\new\\\\archive\\\\BRITANNIA.csv', 'D:\\\\Studies\\\\4th Year\\\\Data Mining\\\\Project\\\\new\\\\archive\\\\CIPLA.csv', 'D:\\\\Studies\\\\4th Year\\\\Data Mining\\\\Project\\\\new\\\\archive\\\\COALINDIA.csv', 'D:\\\\Studies\\\\4th Year\\\\Data Mining\\\\Project\\\\new\\\\archive\\\\DRREDDY.csv', 'D:\\\\Studies\\\\4th Year\\\\Data Mining\\\\Project\\\\new\\\\archive\\\\EICHERMOT.csv', 'D:\\\\Studies\\\\4th Year\\\\Data Mining\\\\Project\\\\new\\\\archive\\\\GAIL.csv', 'D:\\\\Studies\\\\4th Year\\\\Data Mining\\\\Project\\\\new\\\\archive\\\\GRASIM.csv', 'D:\\\\Studies\\\\4th Year\\\\Data Mining\\\\Project\\\\new\\\\archive\\\\HCLTECH.csv', 'D:\\\\Studies\\\\4th Year\\\\Data Mining\\\\Project\\\\new\\\\archive\\\\HDFC.csv', 'D:\\\\Studies\\\\4th Year\\\\Data Mining\\\\Project\\\\new\\\\archive\\\\HDFCBANK.csv', 'D:\\\\Studies\\\\4th Year\\\\Data Mining\\\\Project\\\\new\\\\archive\\\\HEROMOTOCO.csv', 'D:\\\\Studies\\\\4th Year\\\\Data Mining\\\\Project\\\\new\\\\archive\\\\HINDALCO.csv', 'D:\\\\Studies\\\\4th Year\\\\Data Mining\\\\Project\\\\new\\\\archive\\\\HINDUNILVR.csv', 'D:\\\\Studies\\\\4th Year\\\\Data Mining\\\\Project\\\\new\\\\archive\\\\ICICIBANK.csv', 'D:\\\\Studies\\\\4th Year\\\\Data Mining\\\\Project\\\\new\\\\archive\\\\INDUSINDBK.csv', 'D:\\\\Studies\\\\4th Year\\\\Data Mining\\\\Project\\\\new\\\\archive\\\\INFRATEL.csv', 'D:\\\\Studies\\\\4th Year\\\\Data Mining\\\\Project\\\\new\\\\archive\\\\INFY.csv', 'D:\\\\Studies\\\\4th Year\\\\Data Mining\\\\Project\\\\new\\\\archive\\\\IOC.csv', 'D:\\\\Studies\\\\4th Year\\\\Data Mining\\\\Project\\\\new\\\\archive\\\\ITC.csv', 'D:\\\\Studies\\\\4th Year\\\\Data Mining\\\\Project\\\\new\\\\archive\\\\JSWSTEEL.csv', 'D:\\\\Studies\\\\4th Year\\\\Data Mining\\\\Project\\\\new\\\\archive\\\\KOTAKBANK.csv', 'D:\\\\Studies\\\\4th Year\\\\Data Mining\\\\Project\\\\new\\\\archive\\\\LT.csv', 'D:\\\\Studies\\\\4th Year\\\\Data Mining\\\\Project\\\\new\\\\archive\\\\MARUTI.csv', 'D:\\\\Studies\\\\4th Year\\\\Data Mining\\\\Project\\\\new\\\\archive\\\\MM.csv', 'D:\\\\Studies\\\\4th Year\\\\Data Mining\\\\Project\\\\new\\\\archive\\\\NESTLEIND.csv', 'D:\\\\Studies\\\\4th Year\\\\Data Mining\\\\Project\\\\new\\\\archive\\\\NIFTY50_all.csv', 'D:\\\\Studies\\\\4th Year\\\\Data Mining\\\\Project\\\\new\\\\archive\\\\NTPC.csv', 'D:\\\\Studies\\\\4th Year\\\\Data Mining\\\\Project\\\\new\\\\archive\\\\ONGC.csv', 'D:\\\\Studies\\\\4th Year\\\\Data Mining\\\\Project\\\\new\\\\archive\\\\POWERGRID.csv', 'D:\\\\Studies\\\\4th Year\\\\Data Mining\\\\Project\\\\new\\\\archive\\\\RELIANCE.csv', 'D:\\\\Studies\\\\4th Year\\\\Data Mining\\\\Project\\\\new\\\\archive\\\\SBIN.csv', 'D:\\\\Studies\\\\4th Year\\\\Data Mining\\\\Project\\\\new\\\\archive\\\\SHREECEM.csv', 'D:\\\\Studies\\\\4th Year\\\\Data Mining\\\\Project\\\\new\\\\archive\\\\stock_metadata.csv', 'D:\\\\Studies\\\\4th Year\\\\Data Mining\\\\Project\\\\new\\\\archive\\\\SUNPHARMA.csv', 'D:\\\\Studies\\\\4th Year\\\\Data Mining\\\\Project\\\\new\\\\archive\\\\TATAMOTORS.csv', 'D:\\\\Studies\\\\4th Year\\\\Data Mining\\\\Project\\\\new\\\\archive\\\\TATASTEEL.csv', 'D:\\\\Studies\\\\4th Year\\\\Data Mining\\\\Project\\\\new\\\\archive\\\\TCS.csv', 'D:\\\\Studies\\\\4th Year\\\\Data Mining\\\\Project\\\\new\\\\archive\\\\TECHM.csv', 'D:\\\\Studies\\\\4th Year\\\\Data Mining\\\\Project\\\\new\\\\archive\\\\TITAN.csv', 'D:\\\\Studies\\\\4th Year\\\\Data Mining\\\\Project\\\\new\\\\archive\\\\ULTRACEMCO.csv', 'D:\\\\Studies\\\\4th Year\\\\Data Mining\\\\Project\\\\new\\\\archive\\\\UPL.csv', 'D:\\\\Studies\\\\4th Year\\\\Data Mining\\\\Project\\\\new\\\\archive\\\\VEDL.csv', 'D:\\\\Studies\\\\4th Year\\\\Data Mining\\\\Project\\\\new\\\\archive\\\\WIPRO.csv', 'D:\\\\Studies\\\\4th Year\\\\Data Mining\\\\Project\\\\new\\\\archive\\\\ZEEL.csv']\n",
      "Data Types:\n",
      " Date                   object\n",
      "Symbol                 object\n",
      "Series                 object\n",
      "Prev Close            float64\n",
      "Open                  float64\n",
      "High                  float64\n",
      "Low                   float64\n",
      "Last                  float64\n",
      "Close                 float64\n",
      "VWAP                  float64\n",
      "Volume                  int64\n",
      "Turnover              float64\n",
      "Trades                float64\n",
      "Deliverable Volume      int64\n",
      "%Deliverble           float64\n",
      "dtype: object\n",
      "Missing Values:\n",
      " Date                    0\n",
      "Symbol                  0\n",
      "Series                  0\n",
      "Prev Close              0\n",
      "Open                    0\n",
      "High                    0\n",
      "Low                     0\n",
      "Last                    0\n",
      "Close                   0\n",
      "VWAP                    0\n",
      "Volume                  0\n",
      "Turnover                0\n",
      "Trades                866\n",
      "Deliverable Volume      0\n",
      "%Deliverble             0\n",
      "dtype: int64\n",
      "Summary Statistics:\n",
      "         Prev Close         Open         High          Low         Last  \\\n",
      "count  3322.000000  3322.000000  3322.000000  3322.000000  3322.000000   \n",
      "mean    344.114314   344.763019   351.608007   337.531969   344.239539   \n",
      "std     192.936882   193.619992   198.617808   188.676614   193.187813   \n",
      "min     108.000000   108.000000   110.450000   105.650000   108.000000   \n",
      "25%     164.312500   164.850000   168.000000   161.600000   164.075000   \n",
      "50%     324.700000   325.750000   331.275000   319.850000   325.000000   \n",
      "75%     400.912500   401.000000   407.187500   395.000000   400.912500   \n",
      "max    1307.450000  1310.250000  1324.000000  1270.000000  1308.000000   \n",
      "\n",
      "             Close         VWAP        Volume      Turnover        Trades  \\\n",
      "count  3322.000000  3322.000000  3.322000e+03  3.322000e+03  2.456000e+03   \n",
      "mean    344.201626   344.853182  2.954564e+06  1.070144e+14  4.492259e+04   \n",
      "std     193.045886   193.841305  4.104227e+06  2.625564e+14  5.023124e+04   \n",
      "min     108.000000   108.340000  1.236600e+04  2.415857e+11  3.660000e+02   \n",
      "25%     164.312500   164.855000  7.493682e+05  1.817650e+13  2.083200e+04   \n",
      "50%     324.700000   325.765000  2.007292e+06  5.836041e+13  3.588150e+04   \n",
      "75%     400.912500   400.607500  3.636883e+06  1.158526e+14  5.336875e+04   \n",
      "max    1307.450000  1302.150000  9.771788e+07  8.160988e+15  1.205984e+06   \n",
      "\n",
      "       Deliverable Volume  %Deliverble  \n",
      "count        3.322000e+03  3322.000000  \n",
      "mean         1.207441e+06     0.445899  \n",
      "std          1.398640e+06     0.160496  \n",
      "min          5.383000e+03     0.067000  \n",
      "25%          3.212005e+05     0.332900  \n",
      "50%          8.132775e+05     0.445650  \n",
      "75%          1.605528e+06     0.555850  \n",
      "max          2.241652e+07     0.979800  \n",
      "Missing Values After Preprocessing:\n",
      " Symbol                0\n",
      "Series                0\n",
      "Prev Close            0\n",
      "Open                  0\n",
      "High                  0\n",
      "Low                   0\n",
      "Last                  0\n",
      "Close                 0\n",
      "VWAP                  0\n",
      "Volume                0\n",
      "Turnover              0\n",
      "Trades                0\n",
      "Deliverable Volume    0\n",
      "%Deliverble           0\n",
      "dtype: int64\n"
     ]
    },
    {
     "name": "stderr",
     "output_type": "stream",
     "text": [
      "C:\\Users\\rajat\\AppData\\Local\\Temp\\ipykernel_2932\\187067234.py:36: FutureWarning: DataFrame.fillna with 'method' is deprecated and will raise in a future version. Use obj.ffill() or obj.bfill() instead.\n",
      "  df.fillna(method='ffill', inplace=True)\n",
      "C:\\Users\\rajat\\AppData\\Local\\Temp\\ipykernel_2932\\187067234.py:37: FutureWarning: DataFrame.fillna with 'method' is deprecated and will raise in a future version. Use obj.ffill() or obj.bfill() instead.\n",
      "  df.fillna(method='bfill', inplace=True)\n"
     ]
    }
   ],
   "source": [
    "import glob\n",
    "import os\n",
    "import pandas as pd\n",
    "\n",
    "# Update with the correct local directory path\n",
    "dataset_path = r\"D:\\Studies\\4th Year\\Data Mining\\Project\\new\\archive\"  # Local path to CSV files\n",
    "\n",
    "# Check if the directory exists\n",
    "if os.path.exists(dataset_path):\n",
    "    # Get list of all CSV files in the directory\n",
    "    file_paths = glob.glob(os.path.join(dataset_path, '*.csv'))\n",
    "    \n",
    "    if file_paths:\n",
    "        print(\"CSV files found in the directory:\", file_paths)\n",
    "        \n",
    "        # Load the first CSV file\n",
    "        df = pd.read_csv(file_paths[0])\n",
    "        \n",
    "        # Step 1: Check data types and missing values\n",
    "        print(\"Data Types:\\n\", df.dtypes)\n",
    "        print(\"Missing Values:\\n\", df.isnull().sum())\n",
    "\n",
    "        # Step 2: Check summary statistics\n",
    "        print(\"Summary Statistics:\\n\", df.describe())\n",
    "\n",
    "        # Step 3: Convert 'Date' column to datetime\n",
    "        df['Date'] = pd.to_datetime(df['Date'])\n",
    "\n",
    "        # Step 4: Set 'Date' as index\n",
    "        df.set_index('Date', inplace=True)\n",
    "\n",
    "        # Step 5: Sort the data by date\n",
    "        df.sort_index(inplace=True)\n",
    "\n",
    "        # Step 6: Fill missing values\n",
    "        df.fillna(method='ffill', inplace=True)\n",
    "        df.fillna(method='bfill', inplace=True)\n",
    "\n",
    "        # Step 7: Check for missing values again\n",
    "        print(\"Missing Values After Preprocessing:\\n\", df.isnull().sum())\n",
    "\n",
    "    else:\n",
    "        print(f\"No CSV files found in the directory: {dataset_path}\")\n",
    "else:\n",
    "    print(f\"The directory does not exist: {dataset_path}\")\n"
   ]
  },
  {
   "cell_type": "code",
   "execution_count": null,
   "metadata": {},
   "outputs": [
    {
     "name": "stdout",
     "output_type": "stream",
     "text": [
      "             Date      Symbol Series  Prev Close    Open     High     Low  \\\n",
      "0      2007-11-27  MUNDRAPORT     EQ      440.00  770.00  1050.00  770.00   \n",
      "1      2007-11-28  MUNDRAPORT     EQ      962.90  984.00   990.00  874.00   \n",
      "2      2007-11-29  MUNDRAPORT     EQ      893.90  909.00   914.75  841.00   \n",
      "3      2007-11-30  MUNDRAPORT     EQ      884.20  890.00   958.00  890.00   \n",
      "4      2007-12-03  MUNDRAPORT     EQ      921.55  939.75   995.00  922.00   \n",
      "...           ...         ...    ...         ...     ...      ...     ...   \n",
      "235187 2021-04-26        ZEEL     EQ      188.00  190.60   191.10  185.10   \n",
      "235188 2021-04-27        ZEEL     EQ      186.40  188.00   192.95  186.80   \n",
      "235189 2021-04-28        ZEEL     EQ      188.15  188.80   190.60  187.10   \n",
      "235190 2021-04-29        ZEEL     EQ      189.10  190.80   191.65  186.00   \n",
      "235191 2021-04-30        ZEEL     EQ      186.55  185.30   190.95  183.65   \n",
      "\n",
      "          Last   Close    VWAP    Volume      Turnover   Trades  \\\n",
      "0       959.00  962.90  984.72  27294366  2.687719e+15      NaN   \n",
      "1       885.00  893.90  941.38   4581338  4.312765e+14      NaN   \n",
      "2       887.00  884.20  888.09   5124121  4.550658e+14      NaN   \n",
      "3       929.00  921.55  929.17   4609762  4.283257e+14      NaN   \n",
      "4       980.00  969.30  965.65   2977470  2.875200e+14      NaN   \n",
      "...        ...     ...     ...       ...           ...      ...   \n",
      "235187  186.70  186.40  187.35   8542755  1.600451e+14  52374.0   \n",
      "235188  188.80  188.15  189.41  14247767  2.698636e+14  73673.0   \n",
      "235189  188.95  189.10  188.85   8429439  1.591917e+14  44056.0   \n",
      "235190  186.60  186.55  187.44   9483009  1.777471e+14  60932.0   \n",
      "235191  185.00  185.60  187.53  11435285  2.144440e+14  62607.0   \n",
      "\n",
      "        Deliverable Volume  %Deliverble       Stock  \n",
      "0                9859619.0       0.3612  ADANIPORTS  \n",
      "1                1453278.0       0.3172  ADANIPORTS  \n",
      "2                1069678.0       0.2088  ADANIPORTS  \n",
      "3                1260913.0       0.2735  ADANIPORTS  \n",
      "4                 816123.0       0.2741  ADANIPORTS  \n",
      "...                    ...          ...         ...  \n",
      "235187           2340188.0       0.2739        ZEEL  \n",
      "235188           5425957.0       0.3808        ZEEL  \n",
      "235189           2413974.0       0.2864        ZEEL  \n",
      "235190           2744472.0       0.2894        ZEEL  \n",
      "235191           3323909.0       0.2907        ZEEL  \n",
      "\n",
      "[235192 rows x 16 columns]\n"
     ]
    },
    {
     "name": "stderr",
     "output_type": "stream",
     "text": [
      "C:\\Users\\rajat\\AppData\\Local\\Temp\\ipykernel_2932\\554275726.py:21: FutureWarning: The behavior of DataFrame concatenation with empty or all-NA entries is deprecated. In a future version, this will no longer exclude empty or all-NA columns when determining the result dtypes. To retain the old behavior, exclude the relevant entries before the concat operation.\n",
      "  Nifty_50 = pd.concat(dfs, ignore_index=True)\n"
     ]
    }
   ],
   "source": [
    "import os\n",
    "import pandas as pd\n",
    "\n",
    "# Define the folder containing the CSV files\n",
    "folder_path = r\"D:\\Studies\\4th Year\\Data Mining\\Project\\new\\archive\"  # Replace with your actual folder path\n",
    "\n",
    "# Get a list of all CSV files in the folder\n",
    "file_paths = [os.path.join(folder_path, file) for file in os.listdir(folder_path) if file.endswith('.csv')]\n",
    "\n",
    "# Reading each CSV file and store in a list\n",
    "dfs = []\n",
    "for file_path in file_paths:\n",
    "    # Avoiding reading metadata file and directories\n",
    "    if 'stock_metadata' not in file_path and 'NIFTY50_all' not in file_path and os.path.isfile(file_path):\n",
    "        df = pd.read_csv(file_path, parse_dates=['Date'])\n",
    "        df['Stock'] = os.path.basename(file_path).replace('.csv', '')  # Adding stock name column\n",
    "        dfs.append(df)\n",
    "\n",
    "# Check if dfs is not empty before concatenating\n",
    "if dfs:\n",
    "    Nifty_50 = pd.concat(dfs, ignore_index=True)\n",
    "    print(Nifty_50.head(235192))\n",
    "else:\n",
    "    print(\"No CSV files were read. Please check the file paths.\")\n",
    "\n",
    "Nifty_50.to_csv('Nifty_50_concatenated.csv', index=False)\n",
    "\n",
    "print(\"The concatenated data has been saved to 'Nifty_50_concatenated.csv'.\")\n",
    "\n",
    "\n"
   ]
  },
  {
   "cell_type": "code",
   "execution_count": 64,
   "metadata": {},
   "outputs": [
    {
     "name": "stdout",
     "output_type": "stream",
     "text": [
      "<class 'pandas.core.frame.DataFrame'>\n",
      "RangeIndex: 235192 entries, 0 to 235191\n",
      "Data columns (total 16 columns):\n",
      " #   Column              Non-Null Count   Dtype         \n",
      "---  ------              --------------   -----         \n",
      " 0   Date                235192 non-null  datetime64[ns]\n",
      " 1   Symbol              235192 non-null  object        \n",
      " 2   Series              235192 non-null  object        \n",
      " 3   Prev Close          235192 non-null  float64       \n",
      " 4   Open                235192 non-null  float64       \n",
      " 5   High                235192 non-null  float64       \n",
      " 6   Low                 235192 non-null  float64       \n",
      " 7   Last                235192 non-null  float64       \n",
      " 8   Close               235192 non-null  float64       \n",
      " 9   VWAP                235192 non-null  float64       \n",
      " 10  Volume              235192 non-null  object        \n",
      " 11  Turnover            235192 non-null  float64       \n",
      " 12  Trades              120344 non-null  float64       \n",
      " 13  Deliverable Volume  219115 non-null  float64       \n",
      " 14  %Deliverble         219115 non-null  float64       \n",
      " 15  Stock               235192 non-null  object        \n",
      "dtypes: datetime64[ns](1), float64(11), object(4)\n",
      "memory usage: 28.7+ MB\n"
     ]
    }
   ],
   "source": [
    "Nifty_50.info()"
   ]
  },
  {
   "cell_type": "code",
   "execution_count": 65,
   "metadata": {},
   "outputs": [],
   "source": [
    "Nifty50 = df"
   ]
  },
  {
   "cell_type": "code",
   "execution_count": 66,
   "metadata": {},
   "outputs": [
    {
     "name": "stdout",
     "output_type": "stream",
     "text": [
      "<class 'pandas.core.frame.DataFrame'>\n",
      "RangeIndex: 235192 entries, 0 to 235191\n",
      "Data columns (total 16 columns):\n",
      " #   Column              Non-Null Count   Dtype         \n",
      "---  ------              --------------   -----         \n",
      " 0   Date                235192 non-null  datetime64[ns]\n",
      " 1   Symbol              235192 non-null  object        \n",
      " 2   Series              235192 non-null  object        \n",
      " 3   Prev Close          235192 non-null  float64       \n",
      " 4   Open                235192 non-null  float64       \n",
      " 5   High                235192 non-null  float64       \n",
      " 6   Low                 235192 non-null  float64       \n",
      " 7   Last                235192 non-null  float64       \n",
      " 8   Close               235192 non-null  float64       \n",
      " 9   VWAP                235192 non-null  float64       \n",
      " 10  Volume              235192 non-null  object        \n",
      " 11  Turnover            235192 non-null  float64       \n",
      " 12  Trades              120344 non-null  float64       \n",
      " 13  Deliverable Volume  219115 non-null  float64       \n",
      " 14  %Deliverble         219115 non-null  float64       \n",
      " 15  Stock               235192 non-null  object        \n",
      "dtypes: datetime64[ns](1), float64(11), object(4)\n",
      "memory usage: 28.7+ MB\n",
      "None\n"
     ]
    }
   ],
   "source": [
    "# Ensureing the dataset is sorted by date\n",
    "Nifty_50.sort_index(inplace=True)\n",
    "\n",
    "print(Nifty_50.info())"
   ]
  }
 ],
 "metadata": {
  "kernelspec": {
   "display_name": "Python 3",
   "language": "python",
   "name": "python3"
  },
  "language_info": {
   "codemirror_mode": {
    "name": "ipython",
    "version": 3
   },
   "file_extension": ".py",
   "mimetype": "text/x-python",
   "name": "python",
   "nbconvert_exporter": "python",
   "pygments_lexer": "ipython3",
   "version": "3.13.0"
  }
 },
 "nbformat": 4,
 "nbformat_minor": 2
}
