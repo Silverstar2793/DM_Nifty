{
 "cells": [
  {
   "cell_type": "code",
   "execution_count": null,
   "metadata": {
    "vscode": {
     "languageId": "plaintext"
    }
   },
   "outputs": [],
   "source": [
    "import numpy as np  # linear algebra\n",
    "import pandas as pd  # data processing, CSV file I/O (e.g. pd.read_csv)\n",
    "import glob\n",
    "import seaborn as sns\n",
    "import matplotlib.pyplot as plt\n",
    "import os\n",
    "\n",
    "# Define the path to your local dataset\n",
    "dataset_path = r'/Users/apple/Documents/GitHub/DM_Nifty/archive'  # Update this with your local folder path\n",
    "\n",
    "# Check if the path exists\n",
    "if os.path.exists(dataset_path):\n",
    "    # List all files in the directory\n",
    "    files_in_directory = os.listdir(dataset_path)\n",
    "\n",
    "    # Check if there are files in the directory\n",
    "    if files_in_directory:\n",
    "        print(\"Files in directory:\", files_in_directory)\n",
    "\n",
    "        # Iterate over the files and print the full path\n",
    "        for filename in files_in_directory:\n",
    "            print(os.path.join(dataset_path, filename))\n",
    "    else:\n",
    "        print(f\"No files found in the directory: {dataset_path}\")\n",
    "else:\n",
    "    print(f\"The directory does not exist: {dataset_path}\")\n"
   ]
  },
  {
   "cell_type": "code",
   "execution_count": null,
   "metadata": {
    "vscode": {
     "languageId": "plaintext"
    }
   },
   "outputs": [],
   "source": [
    "import glob\n",
    "\n",
    "# Update with the correct local directory path\n",
    "directory = r'/Users/apple/Documents/GitHub/DM_Nifty/archive'  # Local path to CSV files\n",
    "\n",
    "# Get list of all CSV files in the directory\n",
    "file_paths = glob.glob(directory)\n",
    "\n",
    "# Print the file paths\n",
    "print(file_paths)\n"
   ]
  },
  {
   "cell_type": "code",
   "execution_count": null,
   "metadata": {
    "vscode": {
     "languageId": "plaintext"
    }
   },
   "outputs": [],
   "source": [
    "# Reading each CSV file and store in a list\n",
    "dfs = []\n",
    "for file_path in file_paths:\n",
    "    # Avoiding reading metadata file\n",
    "    if 'stock_metadata' not in file_path and 'NIFTY50_all' not in file_path:\n",
    "        df = pd.read_csv(file_path, parse_dates=['Date'])\n",
    "        df['Stock'] = file_path.split('/')[-1].replace('.csv', '')  # Adding stock name column\n",
    "        dfs.append(df)\n"
   ]
  },
  {
   "cell_type": "code",
   "execution_count": null,
   "metadata": {
    "vscode": {
     "languageId": "plaintext"
    }
   },
   "outputs": [],
   "source": [
    "import glob\n",
    "import os\n",
    "import pandas as pd\n",
    "\n",
    "# Update with the correct local directory path\n",
    "dataset_path = r\"/Users/apple/Documents/GitHub/DM_Nifty/archive\"  # Local path to CSV files\n",
    "\n",
    "# Check if the directory exists\n",
    "if os.path.exists(dataset_path):\n",
    "    # Get list of all CSV files in the directory\n",
    "    file_paths = glob.glob(os.path.join(dataset_path, '*.csv'))\n",
    "    \n",
    "    if file_paths:\n",
    "        print(\"CSV files found in the directory:\", file_paths)\n",
    "        \n",
    "        # Load the first CSV file\n",
    "        df = pd.read_csv(file_paths[0])\n",
    "        \n",
    "        # Step 1: Check data types and missing values\n",
    "        print(\"Data Types:\\n\", df.dtypes)\n",
    "        print(\"Missing Values:\\n\", df.isnull().sum())\n",
    "\n",
    "        # Step 2: Check summary statistics\n",
    "        print(\"Summary Statistics:\\n\", df.describe())\n",
    "\n",
    "        # Step 3: Convert 'Date' column to datetime\n",
    "        df['Date'] = pd.to_datetime(df['Date'])\n",
    "\n",
    "        # Step 4: Set 'Date' as index\n",
    "        df.set_index('Date', inplace=True)\n",
    "\n",
    "        # Step 5: Sort the data by date\n",
    "        df.sort_index(inplace=True)\n",
    "\n",
    "        # Step 6: Fill missing values\n",
    "        df.fillna(method='ffill', inplace=True)\n",
    "        df.fillna(method='bfill', inplace=True)\n",
    "\n",
    "        # Step 7: Check for missing values again\n",
    "        print(\"Missing Values After Preprocessing:\\n\", df.isnull().sum())\n",
    "\n",
    "    else:\n",
    "        print(f\"No CSV files found in the directory: {dataset_path}\")\n",
    "else:\n",
    "    print(f\"The directory does not exist: {dataset_path}\")\n"
   ]
  },
  {
   "cell_type": "code",
   "execution_count": null,
   "metadata": {
    "vscode": {
     "languageId": "plaintext"
    }
   },
   "outputs": [],
   "source": [
    "import os\n",
    "import pandas as pd\n",
    "\n",
    "# Define the folder containing the CSV files\n",
    "folder_path = r\"/Users/apple/Documents/GitHub/DM_Nifty/archive\"  # Replace with your actual folder path\n",
    "\n",
    "# Get a list of all CSV files in the folder\n",
    "file_paths = [os.path.join(folder_path, file) for file in os.listdir(folder_path) if file.endswith('.csv')]\n",
    "\n",
    "# Reading each CSV file and store in a list\n",
    "dfs = []\n",
    "for file_path in file_paths:\n",
    "    # Avoiding reading metadata file and directories\n",
    "    if 'stock_metadata' not in file_path and 'NIFTY50_all' not in file_path and os.path.isfile(file_path):\n",
    "        df = pd.read_csv(file_path, parse_dates=['Date'])\n",
    "        df['Stock'] = os.path.basename(file_path).replace('.csv', '')  # Adding stock name column\n",
    "        dfs.append(df)\n",
    "\n",
    "# Check if dfs is not empty before concatenating\n",
    "if dfs:\n",
    "    Nifty_50 = pd.concat(dfs, ignore_index=True)\n",
    "    print(Nifty_50.head(235192))\n",
    "else:\n",
    "    print(\"No CSV files were read. Please check the file paths.\")\n",
    "\n",
    "Nifty_50.to_csv('Nifty_50_concatenated.csv', index=False)\n",
    "\n",
    "print(\"The concatenated data has been saved to 'Nifty_50_concatenated.csv'.\")\n",
    "\n",
    "\n"
   ]
  },
  {
   "cell_type": "code",
   "execution_count": null,
   "metadata": {
    "vscode": {
     "languageId": "plaintext"
    }
   },
   "outputs": [],
   "source": [
    "Nifty_50.info()"
   ]
  },
  {
   "cell_type": "code",
   "execution_count": null,
   "metadata": {
    "vscode": {
     "languageId": "plaintext"
    }
   },
   "outputs": [],
   "source": [
    "Nifty50 = df"
   ]
  },
  {
   "cell_type": "code",
   "execution_count": null,
   "metadata": {
    "vscode": {
     "languageId": "plaintext"
    }
   },
   "outputs": [],
   "source": [
    "# Ensureing the dataset is sorted by date\n",
    "Nifty_50.sort_index(inplace=True)\n",
    "\n",
    "print(Nifty_50.info())"
   ]
  }
 ],
 "metadata": {
  "language_info": {
   "name": "python"
  }
 },
 "nbformat": 4,
 "nbformat_minor": 2
}
