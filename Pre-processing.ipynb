{
  "cells": [
    {
      "cell_type": "code",
      "execution_count": 31,
      "metadata": {
        "vscode": {
          "languageId": "plaintext"
        },
        "id": "23LOC6CMwaz5",
        "outputId": "a11c8130-63a1-4de4-e98f-352764bde30b",
        "colab": {
          "base_uri": "https://localhost:8080/",
          "height": 1000
        }
      },
      "outputs": [
        {
          "output_type": "stream",
          "name": "stdout",
          "text": [
            "Data loaded successfully!\n",
            "Data Types:\n",
            " Date                  datetime64[ns]\n",
            "Symbol                        object\n",
            "Series                        object\n",
            "Prev Close                   float64\n",
            "Open                         float64\n",
            "High                         float64\n",
            "Low                          float64\n",
            "Last                         float64\n",
            "Close                        float64\n",
            "VWAP                         float64\n",
            "Volume                         int64\n",
            "Turnover                     float64\n",
            "Trades                       float64\n",
            "Deliverable Volume           float64\n",
            "%Deliverble                  float64\n",
            "Stock                         object\n",
            "dtype: object\n",
            "Missing Values:\n",
            " Date                       0\n",
            "Symbol                     0\n",
            "Series                     0\n",
            "Prev Close                 0\n",
            "Open                       0\n",
            "High                       0\n",
            "Low                        0\n",
            "Last                       0\n",
            "Close                      0\n",
            "VWAP                       0\n",
            "Volume                     0\n",
            "Turnover                   0\n",
            "Trades                114848\n",
            "Deliverable Volume     16077\n",
            "%Deliverble            16077\n",
            "Stock                      0\n",
            "dtype: int64\n",
            "Summary Statistics:\n",
            "                                 Date     Prev Close           Open  \\\n",
            "count                         235192  235192.000000  235192.000000   \n",
            "mean   2011-05-22 13:18:08.975815680    1266.196349    1267.759708   \n",
            "min              2000-01-03 00:00:00       0.000000       8.500000   \n",
            "25%              2006-07-03 00:00:00     274.300000     275.000000   \n",
            "50%              2011-08-19 00:00:00     566.500000     567.025000   \n",
            "75%              2016-06-24 00:00:00    1242.200000    1243.312500   \n",
            "max              2021-04-30 00:00:00   32861.950000   33399.950000   \n",
            "std                              NaN    2581.370320    2585.259609   \n",
            "\n",
            "                High            Low           Last          Close  \\\n",
            "count  235192.000000  235192.000000  235192.000000  235192.000000   \n",
            "mean     1286.581440    1247.488465    1266.388302    1266.554351   \n",
            "min         9.750000       8.500000       9.100000       9.150000   \n",
            "25%       279.500000     269.600000     274.400000     274.350000   \n",
            "50%       576.900000     556.500000     567.000000     566.700000   \n",
            "75%      1263.000000    1221.650000    1242.900000    1242.400000   \n",
            "max     33480.000000   32468.100000   32849.000000   32861.950000   \n",
            "std      2619.649216    2546.621396    2581.392543    2582.140942   \n",
            "\n",
            "               VWAP        Volume      Turnover        Trades  \\\n",
            "count  235192.00000  2.351920e+05  2.351920e+05  1.203440e+05   \n",
            "mean     1267.13230  3.045903e+06  1.610138e+14  6.196427e+04   \n",
            "min         9.21000  3.000000e+00  1.047000e+07  1.100000e+01   \n",
            "25%       274.69750  2.190095e+05  1.612816e+13  2.183400e+04   \n",
            "50%       566.94000  1.010938e+06  6.832603e+13  4.406800e+04   \n",
            "75%      1242.66250  3.019851e+06  1.863835e+14  7.893550e+04   \n",
            "max     32975.24000  4.810589e+08  3.564334e+16  1.643015e+06   \n",
            "std      2582.69998  7.333981e+06  3.298085e+14  6.866457e+04   \n",
            "\n",
            "       Deliverable Volume    %Deliverble  \n",
            "count        2.191150e+05  219115.000000  \n",
            "mean         1.315098e+06       0.502997  \n",
            "min          5.000000e+00       0.023600  \n",
            "25%          1.253830e+05       0.364700  \n",
            "50%          5.017560e+05       0.511000  \n",
            "75%          1.452233e+06       0.638400  \n",
            "max          2.325307e+08       1.000000  \n",
            "std          2.831670e+06       0.190019  \n"
          ]
        },
        {
          "output_type": "stream",
          "name": "stderr",
          "text": [
            "<ipython-input-31-0afdb3e95a7f>:29: FutureWarning: DataFrame.fillna with 'method' is deprecated and will raise in a future version. Use obj.ffill() or obj.bfill() instead.\n",
            "  df.fillna(method='ffill', inplace=True)\n",
            "<ipython-input-31-0afdb3e95a7f>:30: FutureWarning: DataFrame.fillna with 'method' is deprecated and will raise in a future version. Use obj.ffill() or obj.bfill() instead.\n",
            "  df.fillna(method='bfill', inplace=True)\n"
          ]
        },
        {
          "output_type": "stream",
          "name": "stdout",
          "text": [
            "Missing Values After Preprocessing:\n",
            " Symbol                0\n",
            "Series                0\n",
            "Prev Close            0\n",
            "Open                  0\n",
            "High                  0\n",
            "Low                   0\n",
            "Last                  0\n",
            "Close                 0\n",
            "VWAP                  0\n",
            "Volume                0\n",
            "Turnover              0\n",
            "Trades                0\n",
            "Deliverable Volume    0\n",
            "%Deliverble           0\n",
            "Stock                 0\n",
            "dtype: int64\n",
            "DataFrame Head:\n",
            "            Symbol Series  Prev Close    Open     High     Low     Last  \\\n",
            "Date                                                                     \n",
            "2000-01-03   HDFC     EQ      271.75   293.5   293.50   293.5   293.50   \n",
            "2000-01-03    IOC     EQ      254.00   260.0   273.25   250.0   267.35   \n",
            "2000-01-03  WIPRO     EQ     2522.40  2724.0  2724.20  2724.0  2724.20   \n",
            "2000-01-03  TELCO     EQ      201.60   207.4   217.25   207.4   217.00   \n",
            "2000-01-03  TITAN     EQ      144.95   146.0   156.45   146.0   155.00   \n",
            "\n",
            "              Close     VWAP  Volume      Turnover   Trades  \\\n",
            "Date                                                          \n",
            "2000-01-03   293.50   293.50   22744  6.675364e+11  15453.0   \n",
            "2000-01-03   270.85   258.55   23700  6.127648e+11  15453.0   \n",
            "2000-01-03  2724.20  2724.17    1599  4.355942e+11  15453.0   \n",
            "2000-01-03   216.75   214.28  676126  1.448775e+13  15453.0   \n",
            "2000-01-03   155.70   154.36   23000  3.550370e+11  15453.0   \n",
            "\n",
            "            Deliverable Volume  %Deliverble       Stock  \n",
            "Date                                                     \n",
            "2000-01-03             27277.0       0.5342        HDFC  \n",
            "2000-01-03             27277.0       0.5342         IOC  \n",
            "2000-01-03             27277.0       0.5342       WIPRO  \n",
            "2000-01-03             27277.0       0.5342  TATAMOTORS  \n",
            "2000-01-03             27277.0       0.5342       TITAN  \n"
          ]
        },
        {
          "output_type": "display_data",
          "data": {
            "text/plain": [
              "<Figure size 1000x600 with 1 Axes>"
            ],
            "image/png": "[encoded data removed]"
          },
          "metadata": {}
        }
      ],
      "source": [
        "import pandas as pd\n",
        "import matplotlib.pyplot as plt\n",
        "import numpy as np  # linear algebra\n",
        "import glob\n",
        "import seaborn as sns\n",
        "import os\n",
        "import requests\n",
        "\n",
        "\n",
        "# URL to the raw CSV file in your GitHub repository\n",
        "csv_url = \"https://raw.githubusercontent.com/Silverstar2793/DM_Nifty/main/Nifty_50_concatenated.csv\"\n",
        "\n",
        "# Step 1: Load the combined CSV\n",
        "try:\n",
        "    df = pd.read_csv(csv_url, parse_dates=['Date'])\n",
        "    print(\"Data loaded successfully!\")\n",
        "\n",
        "    # Step 2: Data Preprocessing\n",
        "    print(\"Data Types:\\n\", df.dtypes)\n",
        "    print(\"Missing Values:\\n\", df.isnull().sum())\n",
        "    print(\"Summary Statistics:\\n\", df.describe())\n",
        "\n",
        "    # Convert 'Date' to datetime and set as index\n",
        "    df['Date'] = pd.to_datetime(df['Date'])\n",
        "    df.set_index('Date', inplace=True)\n",
        "    df.sort_index(inplace=True)\n",
        "\n",
        "    # Handle missing values\n",
        "    df.fillna(method='ffill', inplace=True)\n",
        "    df.fillna(method='bfill', inplace=True)\n",
        "    print(\"Missing Values After Preprocessing:\\n\", df.isnull().sum())\n",
        "    print(\"DataFrame Head:\\n\", df.head())\n",
        "\n",
        "    # Plot example (Replace with your analysis/visualization code)\n",
        "    plt.figure(figsize=(10, 6))\n",
        "    df['Close'].plot(title=\"Nifty 50 Closing Prices\", legend=True)\n",
        "    plt.xlabel('Date')\n",
        "    plt.ylabel('Close Price')\n",
        "    plt.show()\n",
        "\n",
        "except Exception as e:\n",
        "    print(f\"Error loading the data: {e}\")\n"
      ]
    },
    {
      "cell_type": "code",
      "execution_count": 33,
      "metadata": {
        "vscode": {
          "languageId": "plaintext"
        },
        "id": "_6_sgU0pwaz6",
        "outputId": "b55deccc-cc09-46c0-8cfd-435e3680ce64",
        "colab": {
          "base_uri": "https://localhost:8080/"
        }
      },
      "outputs": [
        {
          "output_type": "stream",
          "name": "stdout",
          "text": [
            "        Date      Symbol Series  Prev Close    Open     High    Low   Last  \\\n",
            "0 2007-11-27  MUNDRAPORT     EQ      440.00  770.00  1050.00  770.0  959.0   \n",
            "1 2007-11-28  MUNDRAPORT     EQ      962.90  984.00   990.00  874.0  885.0   \n",
            "2 2007-11-29  MUNDRAPORT     EQ      893.90  909.00   914.75  841.0  887.0   \n",
            "3 2007-11-30  MUNDRAPORT     EQ      884.20  890.00   958.00  890.0  929.0   \n",
            "4 2007-12-03  MUNDRAPORT     EQ      921.55  939.75   995.00  922.0  980.0   \n",
            "\n",
            "    Close    VWAP    Volume      Turnover  Trades  Deliverable Volume  \\\n",
            "0  962.90  984.72  27294366  2.687719e+15     NaN           9859619.0   \n",
            "1  893.90  941.38   4581338  4.312765e+14     NaN           1453278.0   \n",
            "2  884.20  888.09   5124121  4.550658e+14     NaN           1069678.0   \n",
            "3  921.55  929.17   4609762  4.283257e+14     NaN           1260913.0   \n",
            "4  969.30  965.65   2977470  2.875200e+14     NaN            816123.0   \n",
            "\n",
            "   %Deliverble       Stock  \n",
            "0       0.3612  ADANIPORTS  \n",
            "1       0.3172  ADANIPORTS  \n",
            "2       0.2088  ADANIPORTS  \n",
            "3       0.2735  ADANIPORTS  \n",
            "4       0.2741  ADANIPORTS  \n",
            "The concatenated data has been saved to 'Nifty_50_concatenated.csv'.\n"
          ]
        }
      ],
      "source": [
        "import pandas as pd\n",
        "import requests\n",
        "import io\n",
        "\n",
        "# Define the URL for the combined CSV dataset from GitHub\n",
        "csv_url = \"https://raw.githubusercontent.com/Silverstar2793/DM_Nifty/main/Nifty_50_concatenated.csv\"\n",
        "\n",
        "# Fetch the CSV file\n",
        "response = requests.get(csv_url)\n",
        "\n",
        "# Check if the request was successful (status code 200)\n",
        "if response.status_code == 200:\n",
        "    # Read the CSV data from the response\n",
        "    Nifty_50 = pd.read_csv(io.StringIO(response.text), parse_dates=['Date'])\n",
        "\n",
        "    # Check the first few rows of the data\n",
        "    print(Nifty_50.head())\n",
        "\n",
        "    # Optional: Save the file locally if needed\n",
        "    Nifty_50.to_csv('Nifty_50_concatenated.csv', index=False)\n",
        "    print(\"The concatenated data has been saved to 'Nifty_50_concatenated.csv'.\")\n",
        "else:\n",
        "    print(f\"Error fetching the file: {response.status_code}\")\n"
      ]
    },
    {
      "cell_type": "code",
      "execution_count": 34,
      "metadata": {
        "vscode": {
          "languageId": "plaintext"
        },
        "id": "-_P2rTY-waz6",
        "outputId": "cfda3cf4-7a44-428e-aefd-fab35b7c7414",
        "colab": {
          "base_uri": "https://localhost:8080/"
        }
      },
      "outputs": [
        {
          "output_type": "stream",
          "name": "stdout",
          "text": [
            "<class 'pandas.core.frame.DataFrame'>\n",
            "RangeIndex: 235192 entries, 0 to 235191\n",
            "Data columns (total 16 columns):\n",
            " #   Column              Non-Null Count   Dtype         \n",
            "---  ------              --------------   -----         \n",
            " 0   Date                235192 non-null  datetime64[ns]\n",
            " 1   Symbol              235192 non-null  object        \n",
            " 2   Series              235192 non-null  object        \n",
            " 3   Prev Close          235192 non-null  float64       \n",
            " 4   Open                235192 non-null  float64       \n",
            " 5   High                235192 non-null  float64       \n",
            " 6   Low                 235192 non-null  float64       \n",
            " 7   Last                235192 non-null  float64       \n",
            " 8   Close               235192 non-null  float64       \n",
            " 9   VWAP                235192 non-null  float64       \n",
            " 10  Volume              235192 non-null  int64         \n",
            " 11  Turnover            235192 non-null  float64       \n",
            " 12  Trades              120344 non-null  float64       \n",
            " 13  Deliverable Volume  219115 non-null  float64       \n",
            " 14  %Deliverble         219115 non-null  float64       \n",
            " 15  Stock               235192 non-null  object        \n",
            "dtypes: datetime64[ns](1), float64(11), int64(1), object(3)\n",
            "memory usage: 28.7+ MB\n"
          ]
        }
      ],
      "source": [
        "Nifty_50.info()"
      ]
    },
    {
      "cell_type": "code",
      "execution_count": 35,
      "metadata": {
        "vscode": {
          "languageId": "plaintext"
        },
        "id": "uo_vE8YNwaz7"
      },
      "outputs": [],
      "source": [
        "Nifty50 = df"
      ]
    },
    {
      "cell_type": "code",
      "execution_count": 36,
      "metadata": {
        "vscode": {
          "languageId": "plaintext"
        },
        "id": "aca-T0Jvwaz8",
        "outputId": "ecdd5cc4-7336-4940-a4d7-b8dd6e39492f",
        "colab": {
          "base_uri": "https://localhost:8080/"
        }
      },
      "outputs": [
        {
          "output_type": "stream",
          "name": "stdout",
          "text": [
            "<class 'pandas.core.frame.DataFrame'>\n",
            "RangeIndex: 235192 entries, 0 to 235191\n",
            "Data columns (total 16 columns):\n",
            " #   Column              Non-Null Count   Dtype         \n",
            "---  ------              --------------   -----         \n",
            " 0   Date                235192 non-null  datetime64[ns]\n",
            " 1   Symbol              235192 non-null  object        \n",
            " 2   Series              235192 non-null  object        \n",
            " 3   Prev Close          235192 non-null  float64       \n",
            " 4   Open                235192 non-null  float64       \n",
            " 5   High                235192 non-null  float64       \n",
            " 6   Low                 235192 non-null  float64       \n",
            " 7   Last                235192 non-null  float64       \n",
            " 8   Close               235192 non-null  float64       \n",
            " 9   VWAP                235192 non-null  float64       \n",
            " 10  Volume              235192 non-null  int64         \n",
            " 11  Turnover            235192 non-null  float64       \n",
            " 12  Trades              120344 non-null  float64       \n",
            " 13  Deliverable Volume  219115 non-null  float64       \n",
            " 14  %Deliverble         219115 non-null  float64       \n",
            " 15  Stock               235192 non-null  object        \n",
            "dtypes: datetime64[ns](1), float64(11), int64(1), object(3)\n",
            "memory usage: 28.7+ MB\n",
            "None\n"
          ]
        }
      ],
      "source": [
        "# Ensureing the dataset is sorted by date\n",
        "Nifty_50.sort_index(inplace=True)\n",
        "\n",
        "print(Nifty_50.info())"
      ]
    }
  ],
  "metadata": {
    "language_info": {
      "name": "python"
    },
    "colab": {
      "provenance": []
    },
    "kernelspec": {
      "name": "python3",
      "display_name": "Python 3"
    }
  },
  "nbformat": 4,
  "nbformat_minor": 0
}