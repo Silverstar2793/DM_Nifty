{
 "cells": [
  {
   "cell_type": "code",
   "execution_count": 1,
   "metadata": {},
   "outputs": [
    {
     "name": "stdout",
     "output_type": "stream",
     "text": [
      "Files in directory: ['ADANIPORTS.csv', 'ASIANPAINT.csv', 'AXISBANK.csv', 'BAJAJ-AUTO.csv', 'BAJAJFINSV.csv', 'BAJFINANCE.csv', 'BHARTIARTL.csv', 'BPCL.csv', 'BRITANNIA.csv', 'CIPLA.csv', 'COALINDIA.csv', 'DRREDDY.csv', 'EICHERMOT.csv', 'GAIL.csv', 'GRASIM.csv', 'HCLTECH.csv', 'HDFC.csv', 'HDFCBANK.csv', 'HEROMOTOCO.csv', 'HINDALCO.csv', 'HINDUNILVR.csv', 'ICICIBANK.csv', 'INDUSINDBK.csv', 'INFRATEL.csv', 'INFY.csv', 'IOC.csv', 'ITC.csv', 'JSWSTEEL.csv', 'KOTAKBANK.csv', 'LT.csv', 'MARUTI.csv', 'MM.csv', 'NESTLEIND.csv', 'NIFTY50_all.csv', 'NTPC.csv', 'ONGC.csv', 'POWERGRID.csv', 'RELIANCE.csv', 'SBIN.csv', 'SHREECEM.csv', 'stock_metadata.csv', 'SUNPHARMA.csv', 'TATAMOTORS.csv', 'TATASTEEL.csv', 'TCS.csv', 'TECHM.csv', 'TITAN.csv', 'ULTRACEMCO.csv', 'UPL.csv', 'VEDL.csv', 'WIPRO.csv', 'ZEEL.csv']\n",
      "C:\\Users\\Purva\\Desktop\\WORK\\Sem-7\\Data Mining\\DM_Nifty\\archive\\ADANIPORTS.csv\n",
      "C:\\Users\\Purva\\Desktop\\WORK\\Sem-7\\Data Mining\\DM_Nifty\\archive\\ASIANPAINT.csv\n",
      "C:\\Users\\Purva\\Desktop\\WORK\\Sem-7\\Data Mining\\DM_Nifty\\archive\\AXISBANK.csv\n",
      "C:\\Users\\Purva\\Desktop\\WORK\\Sem-7\\Data Mining\\DM_Nifty\\archive\\BAJAJ-AUTO.csv\n",
      "C:\\Users\\Purva\\Desktop\\WORK\\Sem-7\\Data Mining\\DM_Nifty\\archive\\BAJAJFINSV.csv\n",
      "C:\\Users\\Purva\\Desktop\\WORK\\Sem-7\\Data Mining\\DM_Nifty\\archive\\BAJFINANCE.csv\n",
      "C:\\Users\\Purva\\Desktop\\WORK\\Sem-7\\Data Mining\\DM_Nifty\\archive\\BHARTIARTL.csv\n",
      "C:\\Users\\Purva\\Desktop\\WORK\\Sem-7\\Data Mining\\DM_Nifty\\archive\\BPCL.csv\n",
      "C:\\Users\\Purva\\Desktop\\WORK\\Sem-7\\Data Mining\\DM_Nifty\\archive\\BRITANNIA.csv\n",
      "C:\\Users\\Purva\\Desktop\\WORK\\Sem-7\\Data Mining\\DM_Nifty\\archive\\CIPLA.csv\n",
      "C:\\Users\\Purva\\Desktop\\WORK\\Sem-7\\Data Mining\\DM_Nifty\\archive\\COALINDIA.csv\n",
      "C:\\Users\\Purva\\Desktop\\WORK\\Sem-7\\Data Mining\\DM_Nifty\\archive\\DRREDDY.csv\n",
      "C:\\Users\\Purva\\Desktop\\WORK\\Sem-7\\Data Mining\\DM_Nifty\\archive\\EICHERMOT.csv\n",
      "C:\\Users\\Purva\\Desktop\\WORK\\Sem-7\\Data Mining\\DM_Nifty\\archive\\GAIL.csv\n",
      "C:\\Users\\Purva\\Desktop\\WORK\\Sem-7\\Data Mining\\DM_Nifty\\archive\\GRASIM.csv\n",
      "C:\\Users\\Purva\\Desktop\\WORK\\Sem-7\\Data Mining\\DM_Nifty\\archive\\HCLTECH.csv\n",
      "C:\\Users\\Purva\\Desktop\\WORK\\Sem-7\\Data Mining\\DM_Nifty\\archive\\HDFC.csv\n",
      "C:\\Users\\Purva\\Desktop\\WORK\\Sem-7\\Data Mining\\DM_Nifty\\archive\\HDFCBANK.csv\n",
      "C:\\Users\\Purva\\Desktop\\WORK\\Sem-7\\Data Mining\\DM_Nifty\\archive\\HEROMOTOCO.csv\n",
      "C:\\Users\\Purva\\Desktop\\WORK\\Sem-7\\Data Mining\\DM_Nifty\\archive\\HINDALCO.csv\n",
      "C:\\Users\\Purva\\Desktop\\WORK\\Sem-7\\Data Mining\\DM_Nifty\\archive\\HINDUNILVR.csv\n",
      "C:\\Users\\Purva\\Desktop\\WORK\\Sem-7\\Data Mining\\DM_Nifty\\archive\\ICICIBANK.csv\n",
      "C:\\Users\\Purva\\Desktop\\WORK\\Sem-7\\Data Mining\\DM_Nifty\\archive\\INDUSINDBK.csv\n",
      "C:\\Users\\Purva\\Desktop\\WORK\\Sem-7\\Data Mining\\DM_Nifty\\archive\\INFRATEL.csv\n",
      "C:\\Users\\Purva\\Desktop\\WORK\\Sem-7\\Data Mining\\DM_Nifty\\archive\\INFY.csv\n",
      "C:\\Users\\Purva\\Desktop\\WORK\\Sem-7\\Data Mining\\DM_Nifty\\archive\\IOC.csv\n",
      "C:\\Users\\Purva\\Desktop\\WORK\\Sem-7\\Data Mining\\DM_Nifty\\archive\\ITC.csv\n",
      "C:\\Users\\Purva\\Desktop\\WORK\\Sem-7\\Data Mining\\DM_Nifty\\archive\\JSWSTEEL.csv\n",
      "C:\\Users\\Purva\\Desktop\\WORK\\Sem-7\\Data Mining\\DM_Nifty\\archive\\KOTAKBANK.csv\n",
      "C:\\Users\\Purva\\Desktop\\WORK\\Sem-7\\Data Mining\\DM_Nifty\\archive\\LT.csv\n",
      "C:\\Users\\Purva\\Desktop\\WORK\\Sem-7\\Data Mining\\DM_Nifty\\archive\\MARUTI.csv\n",
      "C:\\Users\\Purva\\Desktop\\WORK\\Sem-7\\Data Mining\\DM_Nifty\\archive\\MM.csv\n",
      "C:\\Users\\Purva\\Desktop\\WORK\\Sem-7\\Data Mining\\DM_Nifty\\archive\\NESTLEIND.csv\n",
      "C:\\Users\\Purva\\Desktop\\WORK\\Sem-7\\Data Mining\\DM_Nifty\\archive\\NIFTY50_all.csv\n",
      "C:\\Users\\Purva\\Desktop\\WORK\\Sem-7\\Data Mining\\DM_Nifty\\archive\\NTPC.csv\n",
      "C:\\Users\\Purva\\Desktop\\WORK\\Sem-7\\Data Mining\\DM_Nifty\\archive\\ONGC.csv\n",
      "C:\\Users\\Purva\\Desktop\\WORK\\Sem-7\\Data Mining\\DM_Nifty\\archive\\POWERGRID.csv\n",
      "C:\\Users\\Purva\\Desktop\\WORK\\Sem-7\\Data Mining\\DM_Nifty\\archive\\RELIANCE.csv\n",
      "C:\\Users\\Purva\\Desktop\\WORK\\Sem-7\\Data Mining\\DM_Nifty\\archive\\SBIN.csv\n",
      "C:\\Users\\Purva\\Desktop\\WORK\\Sem-7\\Data Mining\\DM_Nifty\\archive\\SHREECEM.csv\n",
      "C:\\Users\\Purva\\Desktop\\WORK\\Sem-7\\Data Mining\\DM_Nifty\\archive\\stock_metadata.csv\n",
      "C:\\Users\\Purva\\Desktop\\WORK\\Sem-7\\Data Mining\\DM_Nifty\\archive\\SUNPHARMA.csv\n",
      "C:\\Users\\Purva\\Desktop\\WORK\\Sem-7\\Data Mining\\DM_Nifty\\archive\\TATAMOTORS.csv\n",
      "C:\\Users\\Purva\\Desktop\\WORK\\Sem-7\\Data Mining\\DM_Nifty\\archive\\TATASTEEL.csv\n",
      "C:\\Users\\Purva\\Desktop\\WORK\\Sem-7\\Data Mining\\DM_Nifty\\archive\\TCS.csv\n",
      "C:\\Users\\Purva\\Desktop\\WORK\\Sem-7\\Data Mining\\DM_Nifty\\archive\\TECHM.csv\n",
      "C:\\Users\\Purva\\Desktop\\WORK\\Sem-7\\Data Mining\\DM_Nifty\\archive\\TITAN.csv\n",
      "C:\\Users\\Purva\\Desktop\\WORK\\Sem-7\\Data Mining\\DM_Nifty\\archive\\ULTRACEMCO.csv\n",
      "C:\\Users\\Purva\\Desktop\\WORK\\Sem-7\\Data Mining\\DM_Nifty\\archive\\UPL.csv\n",
      "C:\\Users\\Purva\\Desktop\\WORK\\Sem-7\\Data Mining\\DM_Nifty\\archive\\VEDL.csv\n",
      "C:\\Users\\Purva\\Desktop\\WORK\\Sem-7\\Data Mining\\DM_Nifty\\archive\\WIPRO.csv\n",
      "C:\\Users\\Purva\\Desktop\\WORK\\Sem-7\\Data Mining\\DM_Nifty\\archive\\ZEEL.csv\n"
     ]
    }
   ],
   "source": [
    "import numpy as np  # linear algebra\n",
    "import pandas as pd  # data processing, CSV file I/O (e.g. pd.read_csv)\n",
    "import glob\n",
    "import seaborn as sns\n",
    "import matplotlib.pyplot as plt\n",
    "import os\n",
    "\n",
    "# Define the path to your local dataset\n",
    "dataset_path = r'C:\\Users\\Purva\\Desktop\\WORK\\Sem-7\\Data Mining\\DM_Nifty\\archive'  # Update this with your local folder path\n",
    "\n",
    "# Check if the path exists\n",
    "if os.path.exists(dataset_path):\n",
    "    # List all files in the directory\n",
    "    files_in_directory = os.listdir(dataset_path)\n",
    "\n",
    "    # Check if there are files in the directory\n",
    "    if files_in_directory:\n",
    "        print(\"Files in directory:\", files_in_directory)\n",
    "\n",
    "        # Iterate over the files and print the full path\n",
    "        for filename in files_in_directory:\n",
    "            print(os.path.join(dataset_path, filename))\n",
    "    else:\n",
    "        print(f\"No files found in the directory: {dataset_path}\")\n",
    "else:\n",
    "    print(f\"The directory does not exist: {dataset_path}\")\n"
   ]
  },
  {
   "cell_type": "code",
   "execution_count": 2,
   "metadata": {},
   "outputs": [
    {
     "name": "stdout",
     "output_type": "stream",
     "text": [
      "['C:\\\\Users\\\\Purva\\\\Desktop\\\\WORK\\\\Sem-7\\\\Data Mining\\\\DM_Nifty\\\\archive']\n"
     ]
    }
   ],
   "source": [
    "import glob\n",
    "\n",
    "# Update with the correct local directory path\n",
    "directory = r'C:\\Users\\Purva\\Desktop\\WORK\\Sem-7\\Data Mining\\DM_Nifty\\archive'  # Local path to CSV files\n",
    "\n",
    "# Get list of all CSV files in the directory\n",
    "file_paths = glob.glob(directory)\n",
    "\n",
    "# Print the file paths\n",
    "print(file_paths)\n"
   ]
  },
  {
   "cell_type": "code",
   "execution_count": 3,
   "metadata": {},
   "outputs": [
    {
     "ename": "PermissionError",
     "evalue": "[Errno 13] Permission denied: 'C:\\\\Users\\\\Purva\\\\Desktop\\\\WORK\\\\Sem-7\\\\Data Mining\\\\DM_Nifty\\\\archive'",
     "output_type": "error",
     "traceback": [
      "\u001b[1;31m---------------------------------------------------------------------------\u001b[0m",
      "\u001b[1;31mPermissionError\u001b[0m                           Traceback (most recent call last)",
      "Cell \u001b[1;32mIn[3], line 6\u001b[0m\n\u001b[0;32m      3\u001b[0m \u001b[38;5;28;01mfor\u001b[39;00m file_path \u001b[38;5;129;01min\u001b[39;00m file_paths:\n\u001b[0;32m      4\u001b[0m     \u001b[38;5;66;03m# Avoiding reading metadata file\u001b[39;00m\n\u001b[0;32m      5\u001b[0m     \u001b[38;5;28;01mif\u001b[39;00m \u001b[38;5;124m'\u001b[39m\u001b[38;5;124mstock_metadata\u001b[39m\u001b[38;5;124m'\u001b[39m \u001b[38;5;129;01mnot\u001b[39;00m \u001b[38;5;129;01min\u001b[39;00m file_path \u001b[38;5;129;01mand\u001b[39;00m \u001b[38;5;124m'\u001b[39m\u001b[38;5;124mNIFTY50_all\u001b[39m\u001b[38;5;124m'\u001b[39m \u001b[38;5;129;01mnot\u001b[39;00m \u001b[38;5;129;01min\u001b[39;00m file_path:\n\u001b[1;32m----> 6\u001b[0m         df \u001b[38;5;241m=\u001b[39m \u001b[43mpd\u001b[49m\u001b[38;5;241;43m.\u001b[39;49m\u001b[43mread_csv\u001b[49m\u001b[43m(\u001b[49m\u001b[43mfile_path\u001b[49m\u001b[43m,\u001b[49m\u001b[43m \u001b[49m\u001b[43mparse_dates\u001b[49m\u001b[38;5;241;43m=\u001b[39;49m\u001b[43m[\u001b[49m\u001b[38;5;124;43m'\u001b[39;49m\u001b[38;5;124;43mDate\u001b[39;49m\u001b[38;5;124;43m'\u001b[39;49m\u001b[43m]\u001b[49m\u001b[43m)\u001b[49m\n\u001b[0;32m      7\u001b[0m         df[\u001b[38;5;124m'\u001b[39m\u001b[38;5;124mStock\u001b[39m\u001b[38;5;124m'\u001b[39m] \u001b[38;5;241m=\u001b[39m file_path\u001b[38;5;241m.\u001b[39msplit(\u001b[38;5;124m'\u001b[39m\u001b[38;5;124m/\u001b[39m\u001b[38;5;124m'\u001b[39m)[\u001b[38;5;241m-\u001b[39m\u001b[38;5;241m1\u001b[39m]\u001b[38;5;241m.\u001b[39mreplace(\u001b[38;5;124m'\u001b[39m\u001b[38;5;124m.csv\u001b[39m\u001b[38;5;124m'\u001b[39m, \u001b[38;5;124m'\u001b[39m\u001b[38;5;124m'\u001b[39m)  \u001b[38;5;66;03m# Adding stock name column\u001b[39;00m\n\u001b[0;32m      8\u001b[0m         dfs\u001b[38;5;241m.\u001b[39mappend(df)\n",
      "File \u001b[1;32mc:\\Users\\Purva\\AppData\\Local\\Programs\\Python\\Python313\\Lib\\site-packages\\pandas\\io\\parsers\\readers.py:1026\u001b[0m, in \u001b[0;36mread_csv\u001b[1;34m(filepath_or_buffer, sep, delimiter, header, names, index_col, usecols, dtype, engine, converters, true_values, false_values, skipinitialspace, skiprows, skipfooter, nrows, na_values, keep_default_na, na_filter, verbose, skip_blank_lines, parse_dates, infer_datetime_format, keep_date_col, date_parser, date_format, dayfirst, cache_dates, iterator, chunksize, compression, thousands, decimal, lineterminator, quotechar, quoting, doublequote, escapechar, comment, encoding, encoding_errors, dialect, on_bad_lines, delim_whitespace, low_memory, memory_map, float_precision, storage_options, dtype_backend)\u001b[0m\n\u001b[0;32m   1013\u001b[0m kwds_defaults \u001b[38;5;241m=\u001b[39m _refine_defaults_read(\n\u001b[0;32m   1014\u001b[0m     dialect,\n\u001b[0;32m   1015\u001b[0m     delimiter,\n\u001b[1;32m   (...)\u001b[0m\n\u001b[0;32m   1022\u001b[0m     dtype_backend\u001b[38;5;241m=\u001b[39mdtype_backend,\n\u001b[0;32m   1023\u001b[0m )\n\u001b[0;32m   1024\u001b[0m kwds\u001b[38;5;241m.\u001b[39mupdate(kwds_defaults)\n\u001b[1;32m-> 1026\u001b[0m \u001b[38;5;28;01mreturn\u001b[39;00m \u001b[43m_read\u001b[49m\u001b[43m(\u001b[49m\u001b[43mfilepath_or_buffer\u001b[49m\u001b[43m,\u001b[49m\u001b[43m \u001b[49m\u001b[43mkwds\u001b[49m\u001b[43m)\u001b[49m\n",
      "File \u001b[1;32mc:\\Users\\Purva\\AppData\\Local\\Programs\\Python\\Python313\\Lib\\site-packages\\pandas\\io\\parsers\\readers.py:620\u001b[0m, in \u001b[0;36m_read\u001b[1;34m(filepath_or_buffer, kwds)\u001b[0m\n\u001b[0;32m    617\u001b[0m _validate_names(kwds\u001b[38;5;241m.\u001b[39mget(\u001b[38;5;124m\"\u001b[39m\u001b[38;5;124mnames\u001b[39m\u001b[38;5;124m\"\u001b[39m, \u001b[38;5;28;01mNone\u001b[39;00m))\n\u001b[0;32m    619\u001b[0m \u001b[38;5;66;03m# Create the parser.\u001b[39;00m\n\u001b[1;32m--> 620\u001b[0m parser \u001b[38;5;241m=\u001b[39m \u001b[43mTextFileReader\u001b[49m\u001b[43m(\u001b[49m\u001b[43mfilepath_or_buffer\u001b[49m\u001b[43m,\u001b[49m\u001b[43m \u001b[49m\u001b[38;5;241;43m*\u001b[39;49m\u001b[38;5;241;43m*\u001b[39;49m\u001b[43mkwds\u001b[49m\u001b[43m)\u001b[49m\n\u001b[0;32m    622\u001b[0m \u001b[38;5;28;01mif\u001b[39;00m chunksize \u001b[38;5;129;01mor\u001b[39;00m iterator:\n\u001b[0;32m    623\u001b[0m     \u001b[38;5;28;01mreturn\u001b[39;00m parser\n",
      "File \u001b[1;32mc:\\Users\\Purva\\AppData\\Local\\Programs\\Python\\Python313\\Lib\\site-packages\\pandas\\io\\parsers\\readers.py:1620\u001b[0m, in \u001b[0;36mTextFileReader.__init__\u001b[1;34m(self, f, engine, **kwds)\u001b[0m\n\u001b[0;32m   1617\u001b[0m     \u001b[38;5;28mself\u001b[39m\u001b[38;5;241m.\u001b[39moptions[\u001b[38;5;124m\"\u001b[39m\u001b[38;5;124mhas_index_names\u001b[39m\u001b[38;5;124m\"\u001b[39m] \u001b[38;5;241m=\u001b[39m kwds[\u001b[38;5;124m\"\u001b[39m\u001b[38;5;124mhas_index_names\u001b[39m\u001b[38;5;124m\"\u001b[39m]\n\u001b[0;32m   1619\u001b[0m \u001b[38;5;28mself\u001b[39m\u001b[38;5;241m.\u001b[39mhandles: IOHandles \u001b[38;5;241m|\u001b[39m \u001b[38;5;28;01mNone\u001b[39;00m \u001b[38;5;241m=\u001b[39m \u001b[38;5;28;01mNone\u001b[39;00m\n\u001b[1;32m-> 1620\u001b[0m \u001b[38;5;28mself\u001b[39m\u001b[38;5;241m.\u001b[39m_engine \u001b[38;5;241m=\u001b[39m \u001b[38;5;28;43mself\u001b[39;49m\u001b[38;5;241;43m.\u001b[39;49m\u001b[43m_make_engine\u001b[49m\u001b[43m(\u001b[49m\u001b[43mf\u001b[49m\u001b[43m,\u001b[49m\u001b[43m \u001b[49m\u001b[38;5;28;43mself\u001b[39;49m\u001b[38;5;241;43m.\u001b[39;49m\u001b[43mengine\u001b[49m\u001b[43m)\u001b[49m\n",
      "File \u001b[1;32mc:\\Users\\Purva\\AppData\\Local\\Programs\\Python\\Python313\\Lib\\site-packages\\pandas\\io\\parsers\\readers.py:1880\u001b[0m, in \u001b[0;36mTextFileReader._make_engine\u001b[1;34m(self, f, engine)\u001b[0m\n\u001b[0;32m   1878\u001b[0m     \u001b[38;5;28;01mif\u001b[39;00m \u001b[38;5;124m\"\u001b[39m\u001b[38;5;124mb\u001b[39m\u001b[38;5;124m\"\u001b[39m \u001b[38;5;129;01mnot\u001b[39;00m \u001b[38;5;129;01min\u001b[39;00m mode:\n\u001b[0;32m   1879\u001b[0m         mode \u001b[38;5;241m+\u001b[39m\u001b[38;5;241m=\u001b[39m \u001b[38;5;124m\"\u001b[39m\u001b[38;5;124mb\u001b[39m\u001b[38;5;124m\"\u001b[39m\n\u001b[1;32m-> 1880\u001b[0m \u001b[38;5;28mself\u001b[39m\u001b[38;5;241m.\u001b[39mhandles \u001b[38;5;241m=\u001b[39m \u001b[43mget_handle\u001b[49m\u001b[43m(\u001b[49m\n\u001b[0;32m   1881\u001b[0m \u001b[43m    \u001b[49m\u001b[43mf\u001b[49m\u001b[43m,\u001b[49m\n\u001b[0;32m   1882\u001b[0m \u001b[43m    \u001b[49m\u001b[43mmode\u001b[49m\u001b[43m,\u001b[49m\n\u001b[0;32m   1883\u001b[0m \u001b[43m    \u001b[49m\u001b[43mencoding\u001b[49m\u001b[38;5;241;43m=\u001b[39;49m\u001b[38;5;28;43mself\u001b[39;49m\u001b[38;5;241;43m.\u001b[39;49m\u001b[43moptions\u001b[49m\u001b[38;5;241;43m.\u001b[39;49m\u001b[43mget\u001b[49m\u001b[43m(\u001b[49m\u001b[38;5;124;43m\"\u001b[39;49m\u001b[38;5;124;43mencoding\u001b[39;49m\u001b[38;5;124;43m\"\u001b[39;49m\u001b[43m,\u001b[49m\u001b[43m \u001b[49m\u001b[38;5;28;43;01mNone\u001b[39;49;00m\u001b[43m)\u001b[49m\u001b[43m,\u001b[49m\n\u001b[0;32m   1884\u001b[0m \u001b[43m    \u001b[49m\u001b[43mcompression\u001b[49m\u001b[38;5;241;43m=\u001b[39;49m\u001b[38;5;28;43mself\u001b[39;49m\u001b[38;5;241;43m.\u001b[39;49m\u001b[43moptions\u001b[49m\u001b[38;5;241;43m.\u001b[39;49m\u001b[43mget\u001b[49m\u001b[43m(\u001b[49m\u001b[38;5;124;43m\"\u001b[39;49m\u001b[38;5;124;43mcompression\u001b[39;49m\u001b[38;5;124;43m\"\u001b[39;49m\u001b[43m,\u001b[49m\u001b[43m \u001b[49m\u001b[38;5;28;43;01mNone\u001b[39;49;00m\u001b[43m)\u001b[49m\u001b[43m,\u001b[49m\n\u001b[0;32m   1885\u001b[0m \u001b[43m    \u001b[49m\u001b[43mmemory_map\u001b[49m\u001b[38;5;241;43m=\u001b[39;49m\u001b[38;5;28;43mself\u001b[39;49m\u001b[38;5;241;43m.\u001b[39;49m\u001b[43moptions\u001b[49m\u001b[38;5;241;43m.\u001b[39;49m\u001b[43mget\u001b[49m\u001b[43m(\u001b[49m\u001b[38;5;124;43m\"\u001b[39;49m\u001b[38;5;124;43mmemory_map\u001b[39;49m\u001b[38;5;124;43m\"\u001b[39;49m\u001b[43m,\u001b[49m\u001b[43m \u001b[49m\u001b[38;5;28;43;01mFalse\u001b[39;49;00m\u001b[43m)\u001b[49m\u001b[43m,\u001b[49m\n\u001b[0;32m   1886\u001b[0m \u001b[43m    \u001b[49m\u001b[43mis_text\u001b[49m\u001b[38;5;241;43m=\u001b[39;49m\u001b[43mis_text\u001b[49m\u001b[43m,\u001b[49m\n\u001b[0;32m   1887\u001b[0m \u001b[43m    \u001b[49m\u001b[43merrors\u001b[49m\u001b[38;5;241;43m=\u001b[39;49m\u001b[38;5;28;43mself\u001b[39;49m\u001b[38;5;241;43m.\u001b[39;49m\u001b[43moptions\u001b[49m\u001b[38;5;241;43m.\u001b[39;49m\u001b[43mget\u001b[49m\u001b[43m(\u001b[49m\u001b[38;5;124;43m\"\u001b[39;49m\u001b[38;5;124;43mencoding_errors\u001b[39;49m\u001b[38;5;124;43m\"\u001b[39;49m\u001b[43m,\u001b[49m\u001b[43m \u001b[49m\u001b[38;5;124;43m\"\u001b[39;49m\u001b[38;5;124;43mstrict\u001b[39;49m\u001b[38;5;124;43m\"\u001b[39;49m\u001b[43m)\u001b[49m\u001b[43m,\u001b[49m\n\u001b[0;32m   1888\u001b[0m \u001b[43m    \u001b[49m\u001b[43mstorage_options\u001b[49m\u001b[38;5;241;43m=\u001b[39;49m\u001b[38;5;28;43mself\u001b[39;49m\u001b[38;5;241;43m.\u001b[39;49m\u001b[43moptions\u001b[49m\u001b[38;5;241;43m.\u001b[39;49m\u001b[43mget\u001b[49m\u001b[43m(\u001b[49m\u001b[38;5;124;43m\"\u001b[39;49m\u001b[38;5;124;43mstorage_options\u001b[39;49m\u001b[38;5;124;43m\"\u001b[39;49m\u001b[43m,\u001b[49m\u001b[43m \u001b[49m\u001b[38;5;28;43;01mNone\u001b[39;49;00m\u001b[43m)\u001b[49m\u001b[43m,\u001b[49m\n\u001b[0;32m   1889\u001b[0m \u001b[43m\u001b[49m\u001b[43m)\u001b[49m\n\u001b[0;32m   1890\u001b[0m \u001b[38;5;28;01massert\u001b[39;00m \u001b[38;5;28mself\u001b[39m\u001b[38;5;241m.\u001b[39mhandles \u001b[38;5;129;01mis\u001b[39;00m \u001b[38;5;129;01mnot\u001b[39;00m \u001b[38;5;28;01mNone\u001b[39;00m\n\u001b[0;32m   1891\u001b[0m f \u001b[38;5;241m=\u001b[39m \u001b[38;5;28mself\u001b[39m\u001b[38;5;241m.\u001b[39mhandles\u001b[38;5;241m.\u001b[39mhandle\n",
      "File \u001b[1;32mc:\\Users\\Purva\\AppData\\Local\\Programs\\Python\\Python313\\Lib\\site-packages\\pandas\\io\\common.py:873\u001b[0m, in \u001b[0;36mget_handle\u001b[1;34m(path_or_buf, mode, encoding, compression, memory_map, is_text, errors, storage_options)\u001b[0m\n\u001b[0;32m    868\u001b[0m \u001b[38;5;28;01melif\u001b[39;00m \u001b[38;5;28misinstance\u001b[39m(handle, \u001b[38;5;28mstr\u001b[39m):\n\u001b[0;32m    869\u001b[0m     \u001b[38;5;66;03m# Check whether the filename is to be opened in binary mode.\u001b[39;00m\n\u001b[0;32m    870\u001b[0m     \u001b[38;5;66;03m# Binary mode does not support 'encoding' and 'newline'.\u001b[39;00m\n\u001b[0;32m    871\u001b[0m     \u001b[38;5;28;01mif\u001b[39;00m ioargs\u001b[38;5;241m.\u001b[39mencoding \u001b[38;5;129;01mand\u001b[39;00m \u001b[38;5;124m\"\u001b[39m\u001b[38;5;124mb\u001b[39m\u001b[38;5;124m\"\u001b[39m \u001b[38;5;129;01mnot\u001b[39;00m \u001b[38;5;129;01min\u001b[39;00m ioargs\u001b[38;5;241m.\u001b[39mmode:\n\u001b[0;32m    872\u001b[0m         \u001b[38;5;66;03m# Encoding\u001b[39;00m\n\u001b[1;32m--> 873\u001b[0m         handle \u001b[38;5;241m=\u001b[39m \u001b[38;5;28;43mopen\u001b[39;49m\u001b[43m(\u001b[49m\n\u001b[0;32m    874\u001b[0m \u001b[43m            \u001b[49m\u001b[43mhandle\u001b[49m\u001b[43m,\u001b[49m\n\u001b[0;32m    875\u001b[0m \u001b[43m            \u001b[49m\u001b[43mioargs\u001b[49m\u001b[38;5;241;43m.\u001b[39;49m\u001b[43mmode\u001b[49m\u001b[43m,\u001b[49m\n\u001b[0;32m    876\u001b[0m \u001b[43m            \u001b[49m\u001b[43mencoding\u001b[49m\u001b[38;5;241;43m=\u001b[39;49m\u001b[43mioargs\u001b[49m\u001b[38;5;241;43m.\u001b[39;49m\u001b[43mencoding\u001b[49m\u001b[43m,\u001b[49m\n\u001b[0;32m    877\u001b[0m \u001b[43m            \u001b[49m\u001b[43merrors\u001b[49m\u001b[38;5;241;43m=\u001b[39;49m\u001b[43merrors\u001b[49m\u001b[43m,\u001b[49m\n\u001b[0;32m    878\u001b[0m \u001b[43m            \u001b[49m\u001b[43mnewline\u001b[49m\u001b[38;5;241;43m=\u001b[39;49m\u001b[38;5;124;43m\"\u001b[39;49m\u001b[38;5;124;43m\"\u001b[39;49m\u001b[43m,\u001b[49m\n\u001b[0;32m    879\u001b[0m \u001b[43m        \u001b[49m\u001b[43m)\u001b[49m\n\u001b[0;32m    880\u001b[0m     \u001b[38;5;28;01melse\u001b[39;00m:\n\u001b[0;32m    881\u001b[0m         \u001b[38;5;66;03m# Binary mode\u001b[39;00m\n\u001b[0;32m    882\u001b[0m         handle \u001b[38;5;241m=\u001b[39m \u001b[38;5;28mopen\u001b[39m(handle, ioargs\u001b[38;5;241m.\u001b[39mmode)\n",
      "\u001b[1;31mPermissionError\u001b[0m: [Errno 13] Permission denied: 'C:\\\\Users\\\\Purva\\\\Desktop\\\\WORK\\\\Sem-7\\\\Data Mining\\\\DM_Nifty\\\\archive'"
     ]
    }
   ],
   "source": [
    "# Reading each CSV file and store in a list\n",
    "dfs = []\n",
    "for file_path in file_paths:\n",
    "    # Avoiding reading metadata file\n",
    "    if 'stock_metadata' not in file_path and 'NIFTY50_all' not in file_path:\n",
    "        df = pd.read_csv(file_path, parse_dates=['Date'])\n",
    "        df['Stock'] = file_path.split('/')[-1].replace('.csv', '')  # Adding stock name column\n",
    "        dfs.append(df)\n"
   ]
  },
  {
   "cell_type": "code",
   "execution_count": null,
   "metadata": {},
   "outputs": [
    {
     "name": "stdout",
     "output_type": "stream",
     "text": [
      "CSV files found in the directory: ['d:\\\\Studies\\\\4th Year\\\\Data Mining\\\\Project\\\\new\\\\archive\\\\ADANIPORTS.csv', 'd:\\\\Studies\\\\4th Year\\\\Data Mining\\\\Project\\\\new\\\\archive\\\\ASIANPAINT.csv', 'd:\\\\Studies\\\\4th Year\\\\Data Mining\\\\Project\\\\new\\\\archive\\\\AXISBANK.csv', 'd:\\\\Studies\\\\4th Year\\\\Data Mining\\\\Project\\\\new\\\\archive\\\\BAJAJ-AUTO.csv', 'd:\\\\Studies\\\\4th Year\\\\Data Mining\\\\Project\\\\new\\\\archive\\\\BAJAJFINSV.csv', 'd:\\\\Studies\\\\4th Year\\\\Data Mining\\\\Project\\\\new\\\\archive\\\\BAJFINANCE.csv', 'd:\\\\Studies\\\\4th Year\\\\Data Mining\\\\Project\\\\new\\\\archive\\\\BHARTIARTL.csv', 'd:\\\\Studies\\\\4th Year\\\\Data Mining\\\\Project\\\\new\\\\archive\\\\BPCL.csv', 'd:\\\\Studies\\\\4th Year\\\\Data Mining\\\\Project\\\\new\\\\archive\\\\BRITANNIA.csv', 'd:\\\\Studies\\\\4th Year\\\\Data Mining\\\\Project\\\\new\\\\archive\\\\CIPLA.csv', 'd:\\\\Studies\\\\4th Year\\\\Data Mining\\\\Project\\\\new\\\\archive\\\\COALINDIA.csv', 'd:\\\\Studies\\\\4th Year\\\\Data Mining\\\\Project\\\\new\\\\archive\\\\DRREDDY.csv', 'd:\\\\Studies\\\\4th Year\\\\Data Mining\\\\Project\\\\new\\\\archive\\\\EICHERMOT.csv', 'd:\\\\Studies\\\\4th Year\\\\Data Mining\\\\Project\\\\new\\\\archive\\\\GAIL.csv', 'd:\\\\Studies\\\\4th Year\\\\Data Mining\\\\Project\\\\new\\\\archive\\\\GRASIM.csv', 'd:\\\\Studies\\\\4th Year\\\\Data Mining\\\\Project\\\\new\\\\archive\\\\HCLTECH.csv', 'd:\\\\Studies\\\\4th Year\\\\Data Mining\\\\Project\\\\new\\\\archive\\\\HDFC.csv', 'd:\\\\Studies\\\\4th Year\\\\Data Mining\\\\Project\\\\new\\\\archive\\\\HDFCBANK.csv', 'd:\\\\Studies\\\\4th Year\\\\Data Mining\\\\Project\\\\new\\\\archive\\\\HEROMOTOCO.csv', 'd:\\\\Studies\\\\4th Year\\\\Data Mining\\\\Project\\\\new\\\\archive\\\\HINDALCO.csv', 'd:\\\\Studies\\\\4th Year\\\\Data Mining\\\\Project\\\\new\\\\archive\\\\HINDUNILVR.csv', 'd:\\\\Studies\\\\4th Year\\\\Data Mining\\\\Project\\\\new\\\\archive\\\\ICICIBANK.csv', 'd:\\\\Studies\\\\4th Year\\\\Data Mining\\\\Project\\\\new\\\\archive\\\\INDUSINDBK.csv', 'd:\\\\Studies\\\\4th Year\\\\Data Mining\\\\Project\\\\new\\\\archive\\\\INFRATEL.csv', 'd:\\\\Studies\\\\4th Year\\\\Data Mining\\\\Project\\\\new\\\\archive\\\\INFY.csv', 'd:\\\\Studies\\\\4th Year\\\\Data Mining\\\\Project\\\\new\\\\archive\\\\IOC.csv', 'd:\\\\Studies\\\\4th Year\\\\Data Mining\\\\Project\\\\new\\\\archive\\\\ITC.csv', 'd:\\\\Studies\\\\4th Year\\\\Data Mining\\\\Project\\\\new\\\\archive\\\\JSWSTEEL.csv', 'd:\\\\Studies\\\\4th Year\\\\Data Mining\\\\Project\\\\new\\\\archive\\\\KOTAKBANK.csv', 'd:\\\\Studies\\\\4th Year\\\\Data Mining\\\\Project\\\\new\\\\archive\\\\LT.csv', 'd:\\\\Studies\\\\4th Year\\\\Data Mining\\\\Project\\\\new\\\\archive\\\\MARUTI.csv', 'd:\\\\Studies\\\\4th Year\\\\Data Mining\\\\Project\\\\new\\\\archive\\\\MM.csv', 'd:\\\\Studies\\\\4th Year\\\\Data Mining\\\\Project\\\\new\\\\archive\\\\NESTLEIND.csv', 'd:\\\\Studies\\\\4th Year\\\\Data Mining\\\\Project\\\\new\\\\archive\\\\NIFTY50_all.csv', 'd:\\\\Studies\\\\4th Year\\\\Data Mining\\\\Project\\\\new\\\\archive\\\\NTPC.csv', 'd:\\\\Studies\\\\4th Year\\\\Data Mining\\\\Project\\\\new\\\\archive\\\\ONGC.csv', 'd:\\\\Studies\\\\4th Year\\\\Data Mining\\\\Project\\\\new\\\\archive\\\\POWERGRID.csv', 'd:\\\\Studies\\\\4th Year\\\\Data Mining\\\\Project\\\\new\\\\archive\\\\RELIANCE.csv', 'd:\\\\Studies\\\\4th Year\\\\Data Mining\\\\Project\\\\new\\\\archive\\\\SBIN.csv', 'd:\\\\Studies\\\\4th Year\\\\Data Mining\\\\Project\\\\new\\\\archive\\\\SHREECEM.csv', 'd:\\\\Studies\\\\4th Year\\\\Data Mining\\\\Project\\\\new\\\\archive\\\\stock_metadata.csv', 'd:\\\\Studies\\\\4th Year\\\\Data Mining\\\\Project\\\\new\\\\archive\\\\SUNPHARMA.csv', 'd:\\\\Studies\\\\4th Year\\\\Data Mining\\\\Project\\\\new\\\\archive\\\\TATAMOTORS.csv', 'd:\\\\Studies\\\\4th Year\\\\Data Mining\\\\Project\\\\new\\\\archive\\\\TATASTEEL.csv', 'd:\\\\Studies\\\\4th Year\\\\Data Mining\\\\Project\\\\new\\\\archive\\\\TCS.csv', 'd:\\\\Studies\\\\4th Year\\\\Data Mining\\\\Project\\\\new\\\\archive\\\\TECHM.csv', 'd:\\\\Studies\\\\4th Year\\\\Data Mining\\\\Project\\\\new\\\\archive\\\\TITAN.csv', 'd:\\\\Studies\\\\4th Year\\\\Data Mining\\\\Project\\\\new\\\\archive\\\\ULTRACEMCO.csv', 'd:\\\\Studies\\\\4th Year\\\\Data Mining\\\\Project\\\\new\\\\archive\\\\UPL.csv', 'd:\\\\Studies\\\\4th Year\\\\Data Mining\\\\Project\\\\new\\\\archive\\\\VEDL.csv', 'd:\\\\Studies\\\\4th Year\\\\Data Mining\\\\Project\\\\new\\\\archive\\\\WIPRO.csv', 'd:\\\\Studies\\\\4th Year\\\\Data Mining\\\\Project\\\\new\\\\archive\\\\ZEEL.csv']\n",
      "Data Types:\n",
      " Date                   object\n",
      "Symbol                 object\n",
      "Series                 object\n",
      "Prev Close            float64\n",
      "Open                  float64\n",
      "High                  float64\n",
      "Low                   float64\n",
      "Last                  float64\n",
      "Close                 float64\n",
      "VWAP                  float64\n",
      "Volume                  int64\n",
      "Turnover              float64\n",
      "Trades                float64\n",
      "Deliverable Volume      int64\n",
      "%Deliverble           float64\n",
      "dtype: object\n",
      "Missing Values:\n",
      " Date                    0\n",
      "Symbol                  0\n",
      "Series                  0\n",
      "Prev Close              0\n",
      "Open                    0\n",
      "High                    0\n",
      "Low                     0\n",
      "Last                    0\n",
      "Close                   0\n",
      "VWAP                    0\n",
      "Volume                  0\n",
      "Turnover                0\n",
      "Trades                866\n",
      "Deliverable Volume      0\n",
      "%Deliverble             0\n",
      "dtype: int64\n",
      "Summary Statistics:\n",
      "         Prev Close         Open         High          Low         Last  \\\n",
      "count  3322.000000  3322.000000  3322.000000  3322.000000  3322.000000   \n",
      "mean    344.114314   344.763019   351.608007   337.531969   344.239539   \n",
      "std     192.936882   193.619992   198.617808   188.676614   193.187813   \n",
      "min     108.000000   108.000000   110.450000   105.650000   108.000000   \n",
      "25%     164.312500   164.850000   168.000000   161.600000   164.075000   \n",
      "50%     324.700000   325.750000   331.275000   319.850000   325.000000   \n",
      "75%     400.912500   401.000000   407.187500   395.000000   400.912500   \n",
      "max    1307.450000  1310.250000  1324.000000  1270.000000  1308.000000   \n",
      "\n",
      "             Close         VWAP        Volume      Turnover        Trades  \\\n",
      "count  3322.000000  3322.000000  3.322000e+03  3.322000e+03  2.456000e+03   \n",
      "mean    344.201626   344.853182  2.954564e+06  1.070144e+14  4.492259e+04   \n",
      "std     193.045886   193.841305  4.104227e+06  2.625564e+14  5.023124e+04   \n",
      "min     108.000000   108.340000  1.236600e+04  2.415857e+11  3.660000e+02   \n",
      "25%     164.312500   164.855000  7.493682e+05  1.817650e+13  2.083200e+04   \n",
      "50%     324.700000   325.765000  2.007292e+06  5.836041e+13  3.588150e+04   \n",
      "75%     400.912500   400.607500  3.636883e+06  1.158526e+14  5.336875e+04   \n",
      "max    1307.450000  1302.150000  9.771788e+07  8.160988e+15  1.205984e+06   \n",
      "\n",
      "       Deliverable Volume  %Deliverble  \n",
      "count        3.322000e+03  3322.000000  \n",
      "mean         1.207441e+06     0.445899  \n",
      "std          1.398640e+06     0.160496  \n",
      "min          5.383000e+03     0.067000  \n",
      "25%          3.212005e+05     0.332900  \n",
      "50%          8.132775e+05     0.445650  \n",
      "75%          1.605528e+06     0.555850  \n",
      "max          2.241652e+07     0.979800  \n"
     ]
    },
    {
     "name": "stderr",
     "output_type": "stream",
     "text": [
      "C:\\Users\\rajat\\AppData\\Local\\Temp\\ipykernel_2932\\4264995250.py:36: FutureWarning: DataFrame.fillna with 'method' is deprecated and will raise in a future version. Use obj.ffill() or obj.bfill() instead.\n",
      "  df.fillna(method='ffill', inplace=True)\n",
      "C:\\Users\\rajat\\AppData\\Local\\Temp\\ipykernel_2932\\4264995250.py:37: FutureWarning: DataFrame.fillna with 'method' is deprecated and will raise in a future version. Use obj.ffill() or obj.bfill() instead.\n",
      "  df.fillna(method='bfill', inplace=True)\n"
     ]
    },
    {
     "name": "stdout",
     "output_type": "stream",
     "text": [
      "Missing Values After Preprocessing:\n",
      " Symbol                0\n",
      "Series                0\n",
      "Prev Close            0\n",
      "Open                  0\n",
      "High                  0\n",
      "Low                   0\n",
      "Last                  0\n",
      "Close                 0\n",
      "VWAP                  0\n",
      "Volume                0\n",
      "Turnover              0\n",
      "Trades                0\n",
      "Deliverable Volume    0\n",
      "%Deliverble           0\n",
      "dtype: int64\n"
     ]
    }
   ],
   "source": [
    "import glob\n",
    "import os\n",
    "import pandas as pd\n",
    "\n",
    "# Update with the correct local directory path\n",
    "dataset_path = r'C:\\Users\\Purva\\Desktop\\WORK\\Sem-7\\Data Mining\\DM_Nifty\\archive'  # Local path to CSV files\n",
    "\n",
    "# Check if the directory exists\n",
    "if os.path.exists(dataset_path):\n",
    "    # Get list of all CSV files in the directory\n",
    "    file_paths = glob.glob(os.path.join(dataset_path, '*.csv'))\n",
    "    \n",
    "    if file_paths:\n",
    "        print(\"CSV files found in the directory:\", file_paths)\n",
    "        \n",
    "        # Load the first CSV file\n",
    "        df = pd.read_csv(file_paths[0])\n",
    "        \n",
    "        # Step 1: Check data types and missing values\n",
    "        print(\"Data Types:\\n\", df.dtypes)\n",
    "        print(\"Missing Values:\\n\", df.isnull().sum())\n",
    "\n",
    "        # Step 2: Check summary statistics\n",
    "        print(\"Summary Statistics:\\n\", df.describe())\n",
    "\n",
    "        # Step 3: Convert 'Date' column to datetime\n",
    "        df['Date'] = pd.to_datetime(df['Date'])\n",
    "\n",
    "        # Step 4: Set 'Date' as index\n",
    "        df.set_index('Date', inplace=True)\n",
    "\n",
    "        # Step 5: Sort the data by date\n",
    "        df.sort_index(inplace=True)\n",
    "\n",
    "        # Step 6: Fill missing values\n",
    "        df.fillna(method='ffill', inplace=True)\n",
    "        df.fillna(method='bfill', inplace=True)\n",
    "\n",
    "        # Step 7: Check for missing values again\n",
    "        print(\"Missing Values After Preprocessing:\\n\", df.isnull().sum())\n",
    "\n",
    "    else:\n",
    "        print(f\"No CSV files found in the directory: {dataset_path}\")\n",
    "else:\n",
    "    print(f\"The directory does not exist: {dataset_path}\")\n"
   ]
  },
  {
   "cell_type": "code",
   "execution_count": null,
   "metadata": {},
   "outputs": [
    {
     "ename": "ValueError",
     "evalue": "No objects to concatenate",
     "output_type": "error",
     "traceback": [
      "\u001b[1;31m---------------------------------------------------------------------------\u001b[0m",
      "\u001b[1;31mValueError\u001b[0m                                Traceback (most recent call last)",
      "Cell \u001b[1;32mIn[5], line 1\u001b[0m\n\u001b[1;32m----> 1\u001b[0m Nifty_50 \u001b[38;5;241m=\u001b[39m \u001b[43mpd\u001b[49m\u001b[38;5;241;43m.\u001b[39;49m\u001b[43mconcat\u001b[49m\u001b[43m(\u001b[49m\u001b[43mdfs\u001b[49m\u001b[43m,\u001b[49m\u001b[43m \u001b[49m\u001b[43mignore_index\u001b[49m\u001b[38;5;241;43m=\u001b[39;49m\u001b[38;5;28;43;01mTrue\u001b[39;49;00m\u001b[43m)\u001b[49m\n\u001b[0;32m      2\u001b[0m Nifty_50\u001b[38;5;241m.\u001b[39mhead(\u001b[38;5;241m235192\u001b[39m)\n",
      "File \u001b[1;32mc:\\Users\\Purva\\AppData\\Local\\Programs\\Python\\Python313\\Lib\\site-packages\\pandas\\core\\reshape\\concat.py:382\u001b[0m, in \u001b[0;36mconcat\u001b[1;34m(objs, axis, join, ignore_index, keys, levels, names, verify_integrity, sort, copy)\u001b[0m\n\u001b[0;32m    379\u001b[0m \u001b[38;5;28;01melif\u001b[39;00m copy \u001b[38;5;129;01mand\u001b[39;00m using_copy_on_write():\n\u001b[0;32m    380\u001b[0m     copy \u001b[38;5;241m=\u001b[39m \u001b[38;5;28;01mFalse\u001b[39;00m\n\u001b[1;32m--> 382\u001b[0m op \u001b[38;5;241m=\u001b[39m \u001b[43m_Concatenator\u001b[49m\u001b[43m(\u001b[49m\n\u001b[0;32m    383\u001b[0m \u001b[43m    \u001b[49m\u001b[43mobjs\u001b[49m\u001b[43m,\u001b[49m\n\u001b[0;32m    384\u001b[0m \u001b[43m    \u001b[49m\u001b[43maxis\u001b[49m\u001b[38;5;241;43m=\u001b[39;49m\u001b[43maxis\u001b[49m\u001b[43m,\u001b[49m\n\u001b[0;32m    385\u001b[0m \u001b[43m    \u001b[49m\u001b[43mignore_index\u001b[49m\u001b[38;5;241;43m=\u001b[39;49m\u001b[43mignore_index\u001b[49m\u001b[43m,\u001b[49m\n\u001b[0;32m    386\u001b[0m \u001b[43m    \u001b[49m\u001b[43mjoin\u001b[49m\u001b[38;5;241;43m=\u001b[39;49m\u001b[43mjoin\u001b[49m\u001b[43m,\u001b[49m\n\u001b[0;32m    387\u001b[0m \u001b[43m    \u001b[49m\u001b[43mkeys\u001b[49m\u001b[38;5;241;43m=\u001b[39;49m\u001b[43mkeys\u001b[49m\u001b[43m,\u001b[49m\n\u001b[0;32m    388\u001b[0m \u001b[43m    \u001b[49m\u001b[43mlevels\u001b[49m\u001b[38;5;241;43m=\u001b[39;49m\u001b[43mlevels\u001b[49m\u001b[43m,\u001b[49m\n\u001b[0;32m    389\u001b[0m \u001b[43m    \u001b[49m\u001b[43mnames\u001b[49m\u001b[38;5;241;43m=\u001b[39;49m\u001b[43mnames\u001b[49m\u001b[43m,\u001b[49m\n\u001b[0;32m    390\u001b[0m \u001b[43m    \u001b[49m\u001b[43mverify_integrity\u001b[49m\u001b[38;5;241;43m=\u001b[39;49m\u001b[43mverify_integrity\u001b[49m\u001b[43m,\u001b[49m\n\u001b[0;32m    391\u001b[0m \u001b[43m    \u001b[49m\u001b[43mcopy\u001b[49m\u001b[38;5;241;43m=\u001b[39;49m\u001b[43mcopy\u001b[49m\u001b[43m,\u001b[49m\n\u001b[0;32m    392\u001b[0m \u001b[43m    \u001b[49m\u001b[43msort\u001b[49m\u001b[38;5;241;43m=\u001b[39;49m\u001b[43msort\u001b[49m\u001b[43m,\u001b[49m\n\u001b[0;32m    393\u001b[0m \u001b[43m\u001b[49m\u001b[43m)\u001b[49m\n\u001b[0;32m    395\u001b[0m \u001b[38;5;28;01mreturn\u001b[39;00m op\u001b[38;5;241m.\u001b[39mget_result()\n",
      "File \u001b[1;32mc:\\Users\\Purva\\AppData\\Local\\Programs\\Python\\Python313\\Lib\\site-packages\\pandas\\core\\reshape\\concat.py:445\u001b[0m, in \u001b[0;36m_Concatenator.__init__\u001b[1;34m(self, objs, axis, join, keys, levels, names, ignore_index, verify_integrity, copy, sort)\u001b[0m\n\u001b[0;32m    442\u001b[0m \u001b[38;5;28mself\u001b[39m\u001b[38;5;241m.\u001b[39mverify_integrity \u001b[38;5;241m=\u001b[39m verify_integrity\n\u001b[0;32m    443\u001b[0m \u001b[38;5;28mself\u001b[39m\u001b[38;5;241m.\u001b[39mcopy \u001b[38;5;241m=\u001b[39m copy\n\u001b[1;32m--> 445\u001b[0m objs, keys \u001b[38;5;241m=\u001b[39m \u001b[38;5;28;43mself\u001b[39;49m\u001b[38;5;241;43m.\u001b[39;49m\u001b[43m_clean_keys_and_objs\u001b[49m\u001b[43m(\u001b[49m\u001b[43mobjs\u001b[49m\u001b[43m,\u001b[49m\u001b[43m \u001b[49m\u001b[43mkeys\u001b[49m\u001b[43m)\u001b[49m\n\u001b[0;32m    447\u001b[0m \u001b[38;5;66;03m# figure out what our result ndim is going to be\u001b[39;00m\n\u001b[0;32m    448\u001b[0m ndims \u001b[38;5;241m=\u001b[39m \u001b[38;5;28mself\u001b[39m\u001b[38;5;241m.\u001b[39m_get_ndims(objs)\n",
      "File \u001b[1;32mc:\\Users\\Purva\\AppData\\Local\\Programs\\Python\\Python313\\Lib\\site-packages\\pandas\\core\\reshape\\concat.py:507\u001b[0m, in \u001b[0;36m_Concatenator._clean_keys_and_objs\u001b[1;34m(self, objs, keys)\u001b[0m\n\u001b[0;32m    504\u001b[0m     objs_list \u001b[38;5;241m=\u001b[39m \u001b[38;5;28mlist\u001b[39m(objs)\n\u001b[0;32m    506\u001b[0m \u001b[38;5;28;01mif\u001b[39;00m \u001b[38;5;28mlen\u001b[39m(objs_list) \u001b[38;5;241m==\u001b[39m \u001b[38;5;241m0\u001b[39m:\n\u001b[1;32m--> 507\u001b[0m     \u001b[38;5;28;01mraise\u001b[39;00m \u001b[38;5;167;01mValueError\u001b[39;00m(\u001b[38;5;124m\"\u001b[39m\u001b[38;5;124mNo objects to concatenate\u001b[39m\u001b[38;5;124m\"\u001b[39m)\n\u001b[0;32m    509\u001b[0m \u001b[38;5;28;01mif\u001b[39;00m keys \u001b[38;5;129;01mis\u001b[39;00m \u001b[38;5;28;01mNone\u001b[39;00m:\n\u001b[0;32m    510\u001b[0m     objs_list \u001b[38;5;241m=\u001b[39m \u001b[38;5;28mlist\u001b[39m(com\u001b[38;5;241m.\u001b[39mnot_none(\u001b[38;5;241m*\u001b[39mobjs_list))\n",
      "\u001b[1;31mValueError\u001b[0m: No objects to concatenate"
     ]
    }
   ],
   "source": [
    "Nifty_50 = pd.concat(dfs, ignore_index=True)\n",
    "Nifty_50.head(235192)"
   ]
  },
  {
   "cell_type": "code",
   "execution_count": null,
   "metadata": {},
   "outputs": [
    {
     "name": "stdout",
     "output_type": "stream",
     "text": [
      "<class 'pandas.core.frame.DataFrame'>\n",
      "RangeIndex: 235192 entries, 0 to 235191\n",
      "Data columns (total 16 columns):\n",
      " #   Column              Non-Null Count   Dtype         \n",
      "---  ------              --------------   -----         \n",
      " 0   Date                235192 non-null  datetime64[ns]\n",
      " 1   Symbol              235192 non-null  object        \n",
      " 2   Series              235192 non-null  object        \n",
      " 3   Prev Close          235192 non-null  float64       \n",
      " 4   Open                235192 non-null  float64       \n",
      " 5   High                235192 non-null  float64       \n",
      " 6   Low                 235192 non-null  float64       \n",
      " 7   Last                235192 non-null  float64       \n",
      " 8   Close               235192 non-null  float64       \n",
      " 9   VWAP                235192 non-null  float64       \n",
      " 10  Volume              235192 non-null  object        \n",
      " 11  Turnover            235192 non-null  float64       \n",
      " 12  Trades              120344 non-null  float64       \n",
      " 13  Deliverable Volume  219115 non-null  float64       \n",
      " 14  %Deliverble         219115 non-null  float64       \n",
      " 15  Stock               235192 non-null  object        \n",
      "dtypes: datetime64[ns](1), float64(11), object(4)\n",
      "memory usage: 28.7+ MB\n"
     ]
    }
   ],
   "source": [
    "Nifty_50.info()"
   ]
  },
  {
   "cell_type": "code",
   "execution_count": null,
   "metadata": {},
   "outputs": [],
   "source": [
    "Nifty50 = df"
   ]
  },
  {
   "cell_type": "code",
   "execution_count": null,
   "metadata": {},
   "outputs": [
    {
     "name": "stdout",
     "output_type": "stream",
     "text": [
      "<class 'pandas.core.frame.DataFrame'>\n",
      "RangeIndex: 235192 entries, 0 to 235191\n",
      "Data columns (total 16 columns):\n",
      " #   Column              Non-Null Count   Dtype         \n",
      "---  ------              --------------   -----         \n",
      " 0   Date                235192 non-null  datetime64[ns]\n",
      " 1   Symbol              235192 non-null  object        \n",
      " 2   Series              235192 non-null  object        \n",
      " 3   Prev Close          235192 non-null  float64       \n",
      " 4   Open                235192 non-null  float64       \n",
      " 5   High                235192 non-null  float64       \n",
      " 6   Low                 235192 non-null  float64       \n",
      " 7   Last                235192 non-null  float64       \n",
      " 8   Close               235192 non-null  float64       \n",
      " 9   VWAP                235192 non-null  float64       \n",
      " 10  Volume              235192 non-null  object        \n",
      " 11  Turnover            235192 non-null  float64       \n",
      " 12  Trades              120344 non-null  float64       \n",
      " 13  Deliverable Volume  219115 non-null  float64       \n",
      " 14  %Deliverble         219115 non-null  float64       \n",
      " 15  Stock               235192 non-null  object        \n",
      "dtypes: datetime64[ns](1), float64(11), object(4)\n",
      "memory usage: 28.7+ MB\n",
      "None\n"
     ]
    }
   ],
   "source": [
    "# Ensureing the dataset is sorted by date\n",
    "Nifty_50.sort_index(inplace=True)\n",
    "\n",
    "print(Nifty_50.info())"
   ]
  }
 ],
 "metadata": {
  "kernelspec": {
   "display_name": "Python 3",
   "language": "python",
   "name": "python3"
  },
  "language_info": {
   "codemirror_mode": {
    "name": "ipython",
    "version": 3
   },
   "file_extension": ".py",
   "mimetype": "text/x-python",
   "name": "python",
   "nbconvert_exporter": "python",
   "pygments_lexer": "ipython3",
   "version": "3.13.0"
  }
 },
 "nbformat": 4,
 "nbformat_minor": 2
}
